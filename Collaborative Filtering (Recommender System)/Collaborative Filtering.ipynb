{
 "cells": [
  {
   "cell_type": "code",
   "execution_count": 41,
   "id": "e8d16d33",
   "metadata": {},
   "outputs": [],
   "source": [
    "from pyspark.sql import SparkSession\n",
    "from pyspark.ml.recommendation import ALS\n",
    "from pyspark.ml.evaluation import RegressionEvaluator\n",
    "from pyspark.ml.tuning import ParamGridBuilder, CrossValidator"
   ]
  },
  {
   "cell_type": "code",
   "execution_count": 42,
   "id": "9800844d",
   "metadata": {},
   "outputs": [
    {
     "data": {
      "text/html": [
       "\n",
       "            <div>\n",
       "                <p><b>SparkSession - in-memory</b></p>\n",
       "                \n",
       "        <div>\n",
       "            <p><b>SparkContext</b></p>\n",
       "\n",
       "            <p><a href=\"http://Ranjeev.mshome.net:4040\">Spark UI</a></p>\n",
       "\n",
       "            <dl>\n",
       "              <dt>Version</dt>\n",
       "                <dd><code>v3.3.2</code></dd>\n",
       "              <dt>Master</dt>\n",
       "                <dd><code>local[*]</code></dd>\n",
       "              <dt>AppName</dt>\n",
       "                <dd><code>Collaborative Filtering</code></dd>\n",
       "            </dl>\n",
       "        </div>\n",
       "        \n",
       "            </div>\n",
       "        "
      ],
      "text/plain": [
       "<pyspark.sql.session.SparkSession at 0x175fcb779d0>"
      ]
     },
     "execution_count": 42,
     "metadata": {},
     "output_type": "execute_result"
    }
   ],
   "source": [
    "spark = SparkSession.builder.appName(\"Collaborative Filtering\").getOrCreate()\n",
    "spark"
   ]
  },
  {
   "cell_type": "code",
   "execution_count": 43,
   "id": "d41ffc09",
   "metadata": {},
   "outputs": [
    {
     "name": "stdout",
     "output_type": "stream",
     "text": [
      "+-------+--------------------+--------------------+\n",
      "|movieId|               title|              genres|\n",
      "+-------+--------------------+--------------------+\n",
      "|      1|    Toy Story (1995)|Adventure|Animati...|\n",
      "|      2|      Jumanji (1995)|Adventure|Childre...|\n",
      "|      3|Grumpier Old Men ...|      Comedy|Romance|\n",
      "|      4|Waiting to Exhale...|Comedy|Drama|Romance|\n",
      "|      5|Father of the Bri...|              Comedy|\n",
      "|      6|         Heat (1995)|Action|Crime|Thri...|\n",
      "|      7|      Sabrina (1995)|      Comedy|Romance|\n",
      "|      8| Tom and Huck (1995)|  Adventure|Children|\n",
      "|      9| Sudden Death (1995)|              Action|\n",
      "|     10|    GoldenEye (1995)|Action|Adventure|...|\n",
      "|     11|American Presiden...|Comedy|Drama|Romance|\n",
      "|     12|Dracula: Dead and...|       Comedy|Horror|\n",
      "|     13|        Balto (1995)|Adventure|Animati...|\n",
      "|     14|        Nixon (1995)|               Drama|\n",
      "|     15|Cutthroat Island ...|Action|Adventure|...|\n",
      "|     16|       Casino (1995)|         Crime|Drama|\n",
      "|     17|Sense and Sensibi...|       Drama|Romance|\n",
      "|     18|   Four Rooms (1995)|              Comedy|\n",
      "|     19|Ace Ventura: When...|              Comedy|\n",
      "|     20|  Money Train (1995)|Action|Comedy|Cri...|\n",
      "+-------+--------------------+--------------------+\n",
      "only showing top 20 rows\n",
      "\n",
      "+------+-------+------+---------+\n",
      "|userId|movieId|rating|timestamp|\n",
      "+------+-------+------+---------+\n",
      "|     1|      1|   4.0|964982703|\n",
      "|     1|      3|   4.0|964981247|\n",
      "|     1|      6|   4.0|964982224|\n",
      "|     1|     47|   5.0|964983815|\n",
      "|     1|     50|   5.0|964982931|\n",
      "|     1|     70|   3.0|964982400|\n",
      "|     1|    101|   5.0|964980868|\n",
      "|     1|    110|   4.0|964982176|\n",
      "|     1|    151|   5.0|964984041|\n",
      "|     1|    157|   5.0|964984100|\n",
      "|     1|    163|   5.0|964983650|\n",
      "|     1|    216|   5.0|964981208|\n",
      "|     1|    223|   3.0|964980985|\n",
      "|     1|    231|   5.0|964981179|\n",
      "|     1|    235|   4.0|964980908|\n",
      "|     1|    260|   5.0|964981680|\n",
      "|     1|    296|   3.0|964982967|\n",
      "|     1|    316|   3.0|964982310|\n",
      "|     1|    333|   5.0|964981179|\n",
      "|     1|    349|   4.0|964982563|\n",
      "+------+-------+------+---------+\n",
      "only showing top 20 rows\n",
      "\n"
     ]
    }
   ],
   "source": [
    "moviesDF = spark.read.options(header = True, inferSchema=True).csv(\"movies.csv\")\n",
    "ratingsDF = spark.read.options(header = True, inferSchema = True).csv(\"ratings.csv\")\n",
    "\n",
    "moviesDF.show()\n",
    "ratingsDF.show()"
   ]
  },
  {
   "cell_type": "code",
   "execution_count": 44,
   "id": "eaa62331",
   "metadata": {},
   "outputs": [
    {
     "name": "stdout",
     "output_type": "stream",
     "text": [
      "root\n",
      " |-- movieId: integer (nullable = true)\n",
      " |-- title: string (nullable = true)\n",
      " |-- genres: string (nullable = true)\n",
      "\n",
      "root\n",
      " |-- userId: integer (nullable = true)\n",
      " |-- movieId: integer (nullable = true)\n",
      " |-- rating: double (nullable = true)\n",
      " |-- timestamp: integer (nullable = true)\n",
      "\n"
     ]
    }
   ],
   "source": [
    "moviesDF.printSchema()\n",
    "ratingsDF.printSchema()"
   ]
  },
  {
   "cell_type": "code",
   "execution_count": 45,
   "id": "5e3a0c7d",
   "metadata": {},
   "outputs": [],
   "source": [
    "ratings = ratingsDF.join(moviesDF, 'movieId','left')"
   ]
  },
  {
   "cell_type": "code",
   "execution_count": 46,
   "id": "d0fc9d88",
   "metadata": {},
   "outputs": [
    {
     "data": {
      "text/plain": [
       "100836"
      ]
     },
     "execution_count": 46,
     "metadata": {},
     "output_type": "execute_result"
    }
   ],
   "source": [
    "ratings.count()"
   ]
  },
  {
   "cell_type": "code",
   "execution_count": 47,
   "id": "71a49446",
   "metadata": {},
   "outputs": [],
   "source": [
    "# Split the dataframe into train and test data\n",
    "(train, test) = ratings.randomSplit([0.8,0.2])"
   ]
  },
  {
   "cell_type": "code",
   "execution_count": 48,
   "id": "632ad2b3",
   "metadata": {},
   "outputs": [
    {
     "data": {
      "text/plain": [
       "True"
      ]
     },
     "execution_count": 48,
     "metadata": {},
     "output_type": "execute_result"
    }
   ],
   "source": [
    "train.count() + test.count() ==ratings.count()"
   ]
  },
  {
   "cell_type": "code",
   "execution_count": 49,
   "id": "07447a5c",
   "metadata": {},
   "outputs": [
    {
     "name": "stdout",
     "output_type": "stream",
     "text": [
      "+-------+------+------+----------+----------------+--------------------+\n",
      "|movieId|userId|rating| timestamp|           title|              genres|\n",
      "+-------+------+------+----------+----------------+--------------------+\n",
      "|      1|     5|   4.0| 847434962|Toy Story (1995)|Adventure|Animati...|\n",
      "|      1|     7|   4.5|1106635946|Toy Story (1995)|Adventure|Animati...|\n",
      "|      1|    17|   4.5|1305696483|Toy Story (1995)|Adventure|Animati...|\n",
      "|      1|    19|   4.0| 965705637|Toy Story (1995)|Adventure|Animati...|\n",
      "|      1|    21|   3.5|1407618878|Toy Story (1995)|Adventure|Animati...|\n",
      "|      1|    27|   3.0| 962685262|Toy Story (1995)|Adventure|Animati...|\n",
      "|      1|    31|   5.0| 850466616|Toy Story (1995)|Adventure|Animati...|\n",
      "|      1|    33|   3.0| 939647444|Toy Story (1995)|Adventure|Animati...|\n",
      "|      1|    54|   3.0| 830247330|Toy Story (1995)|Adventure|Animati...|\n",
      "|      1|    63|   5.0|1443199669|Toy Story (1995)|Adventure|Animati...|\n",
      "|      1|    64|   4.0|1161520134|Toy Story (1995)|Adventure|Animati...|\n",
      "|      1|    66|   4.0|1104643957|Toy Story (1995)|Adventure|Animati...|\n",
      "|      1|    68|   2.5|1158531426|Toy Story (1995)|Adventure|Animati...|\n",
      "|      1|    71|   5.0| 864737933|Toy Story (1995)|Adventure|Animati...|\n",
      "|      1|    73|   4.5|1464196374|Toy Story (1995)|Adventure|Animati...|\n",
      "|      1|    76|   0.5|1439165548|Toy Story (1995)|Adventure|Animati...|\n",
      "|      1|    86|   4.0|1344082549|Toy Story (1995)|Adventure|Animati...|\n",
      "|      1|    89|   3.0|1520408314|Toy Story (1995)|Adventure|Animati...|\n",
      "|      1|    90|   3.0| 856353996|Toy Story (1995)|Adventure|Animati...|\n",
      "|      1|    91|   4.0|1112713037|Toy Story (1995)|Adventure|Animati...|\n",
      "+-------+------+------+----------+----------------+--------------------+\n",
      "only showing top 20 rows\n",
      "\n"
     ]
    }
   ],
   "source": [
    "train.show()"
   ]
  },
  {
   "cell_type": "code",
   "execution_count": 50,
   "id": "29e31c3b",
   "metadata": {},
   "outputs": [],
   "source": [
    "## ALS Model"
   ]
  },
  {
   "cell_type": "code",
   "execution_count": 51,
   "id": "11925fc2",
   "metadata": {},
   "outputs": [],
   "source": [
    "als = ALS(userCol = \"userId\", itemCol = \"movieId\", ratingCol = \"rating\", nonnegative = True, implicitPrefs=False, coldStartStrategy =\"drop\")"
   ]
  },
  {
   "cell_type": "code",
   "execution_count": null,
   "id": "58c71c9c",
   "metadata": {},
   "outputs": [],
   "source": []
  },
  {
   "cell_type": "code",
   "execution_count": 52,
   "id": "0dd2d967",
   "metadata": {},
   "outputs": [],
   "source": [
    "param_grid = ParamGridBuilder()\\\n",
    "            .addGrid(als.rank,[10,50,100,150])\\\n",
    "            .addGrid(als.regParam, [.01, .05, .1, .15])\\\n",
    "            .build()"
   ]
  },
  {
   "cell_type": "code",
   "execution_count": 53,
   "id": "09a4e76d",
   "metadata": {},
   "outputs": [],
   "source": [
    "evaluator = RegressionEvaluator(\n",
    "            metricName=\"rmse\",\n",
    "            labelCol=\"rating\",\n",
    "            predictionCol=\"prediction\")"
   ]
  },
  {
   "cell_type": "code",
   "execution_count": 54,
   "id": "0f45a9bd",
   "metadata": {},
   "outputs": [],
   "source": [
    "cv = CrossValidator(estimator=als, estimatorParamMaps=param_grid, evaluator=evaluator, numFolds=5)"
   ]
  },
  {
   "cell_type": "code",
   "execution_count": 59,
   "id": "8d99c64d",
   "metadata": {},
   "outputs": [],
   "source": [
    "model = cv.fit(train)\n",
    "bestModel = model.bestModel\n",
    "test_predictions = bestModel.transform(test)"
   ]
  },
  {
   "cell_type": "code",
   "execution_count": 60,
   "id": "b8ac052a",
   "metadata": {},
   "outputs": [
    {
     "name": "stdout",
     "output_type": "stream",
     "text": [
      "0.8680240575181213\n"
     ]
    }
   ],
   "source": [
    "RMSE = evaluator.evaluate(test_predictions)\n",
    "print(RMSE)"
   ]
  },
  {
   "cell_type": "code",
   "execution_count": 72,
   "id": "6f0a71ef",
   "metadata": {},
   "outputs": [],
   "source": [
    "recommendations = bestModel.recommendForAllUsers(5)"
   ]
  },
  {
   "cell_type": "code",
   "execution_count": 73,
   "id": "e15a0193",
   "metadata": {},
   "outputs": [],
   "source": [
    "df = recommendations"
   ]
  },
  {
   "cell_type": "code",
   "execution_count": 74,
   "id": "82836f17",
   "metadata": {},
   "outputs": [
    {
     "name": "stdout",
     "output_type": "stream",
     "text": [
      "+------+---------------------------------------------------------------------------------------------------+\n",
      "|userId|recommendations                                                                                    |\n",
      "+------+---------------------------------------------------------------------------------------------------+\n",
      "|1     |[{96004, 5.806157}, {170355, 5.806157}, {3379, 5.806157}, {33649, 5.629791}, {5490, 5.577285}]     |\n",
      "|2     |[{131724, 4.805224}, {69524, 4.535378}, {96004, 4.5284743}, {170355, 4.5284743}, {3379, 4.5284743}]|\n",
      "|3     |[{5746, 4.8621607}, {6835, 4.8621607}, {5919, 4.766895}, {5181, 4.759805}, {2851, 4.734143}]       |\n",
      "|4     |[{1733, 4.760128}, {25825, 4.7033024}, {1046, 4.688176}, {4765, 4.6822395}, {2204, 4.5960803}]     |\n",
      "|5     |[{170355, 4.6484933}, {96004, 4.6484933}, {3379, 4.6484933}, {5490, 4.4872494}, {7767, 4.4733486}] |\n",
      "|6     |[{33649, 4.8036513}, {3200, 4.7189884}, {3086, 4.6860747}, {5490, 4.6601877}, {5867, 4.657937}]    |\n",
      "|7     |[{3030, 4.648968}, {170355, 4.6087437}, {96004, 4.6087437}, {3379, 4.6087437}, {4429, 4.5555916}]  |\n",
      "|8     |[{170355, 4.7403336}, {96004, 4.7403336}, {3379, 4.7403336}, {33649, 4.4917097}, {4495, 4.4672074}]|\n",
      "|9     |[{96004, 5.0860705}, {170355, 5.0860705}, {3379, 5.0860705}, {3030, 4.879367}, {69524, 4.7230587}] |\n",
      "|10    |[{71579, 4.366638}, {113275, 4.346314}, {94070, 4.290844}, {51705, 4.268364}, {8869, 4.2634277}]   |\n",
      "|11    |[{170355, 5.2543125}, {96004, 5.2543125}, {3379, 5.2543125}, {33649, 4.9722815}, {3200, 4.9534764}]|\n",
      "|12    |[{33649, 5.685644}, {84273, 5.574089}, {7071, 5.574089}, {117531, 5.574089}, {72171, 5.574089}]    |\n",
      "|13    |[{170355, 5.1373644}, {96004, 5.1373644}, {3379, 5.1373644}, {69524, 4.913316}, {59018, 4.8727837}]|\n",
      "|14    |[{3200, 4.4850273}, {96004, 4.4593573}, {170355, 4.4593573}, {3379, 4.4593573}, {72171, 4.446024}] |\n",
      "|15    |[{60943, 4.516332}, {59018, 4.516332}, {170355, 4.5078883}, {3379, 4.5078883}, {96004, 4.5078883}] |\n",
      "|16    |[{96004, 4.5544662}, {170355, 4.5544662}, {3379, 4.5544662}, {5490, 4.3463893}, {6818, 4.3276167}] |\n",
      "|17    |[{170355, 5.2570953}, {96004, 5.2570953}, {3379, 5.2570953}, {33649, 4.942813}, {171495, 4.86834}] |\n",
      "|18    |[{170355, 4.984987}, {96004, 4.984987}, {3379, 4.984987}, {33649, 4.7811575}, {171495, 4.6957345}] |\n",
      "|19    |[{170355, 3.989612}, {96004, 3.989612}, {3379, 3.989612}, {1658, 3.8418117}, {33649, 3.8233583}]   |\n",
      "|20    |[{170355, 5.182888}, {96004, 5.182888}, {3379, 5.182888}, {5490, 5.1557755}, {26326, 5.004141}]    |\n",
      "+------+---------------------------------------------------------------------------------------------------+\n",
      "only showing top 20 rows\n",
      "\n"
     ]
    }
   ],
   "source": [
    "df.show(truncate=False)"
   ]
  },
  {
   "cell_type": "code",
   "execution_count": 77,
   "id": "bc29a563",
   "metadata": {},
   "outputs": [
    {
     "name": "stdout",
     "output_type": "stream",
     "text": [
      "+------+--------------------+-------------------+\n",
      "|userId|     recommendations|     movieid_rating|\n",
      "+------+--------------------+-------------------+\n",
      "|     1|[{96004, 5.806157...|  {96004, 5.806157}|\n",
      "|     1|[{96004, 5.806157...| {170355, 5.806157}|\n",
      "|     1|[{96004, 5.806157...|   {3379, 5.806157}|\n",
      "|     1|[{96004, 5.806157...|  {33649, 5.629791}|\n",
      "|     1|[{96004, 5.806157...|   {5490, 5.577285}|\n",
      "|     2|[{131724, 4.80522...| {131724, 4.805224}|\n",
      "|     2|[{131724, 4.80522...|  {69524, 4.535378}|\n",
      "|     2|[{131724, 4.80522...| {96004, 4.5284743}|\n",
      "|     2|[{131724, 4.80522...|{170355, 4.5284743}|\n",
      "|     2|[{131724, 4.80522...|  {3379, 4.5284743}|\n",
      "|     3|[{5746, 4.8621607...|  {5746, 4.8621607}|\n",
      "|     3|[{5746, 4.8621607...|  {6835, 4.8621607}|\n",
      "|     3|[{5746, 4.8621607...|   {5919, 4.766895}|\n",
      "|     3|[{5746, 4.8621607...|   {5181, 4.759805}|\n",
      "|     3|[{5746, 4.8621607...|   {2851, 4.734143}|\n",
      "|     4|[{1733, 4.760128}...|   {1733, 4.760128}|\n",
      "|     4|[{1733, 4.760128}...| {25825, 4.7033024}|\n",
      "|     4|[{1733, 4.760128}...|   {1046, 4.688176}|\n",
      "|     4|[{1733, 4.760128}...|  {4765, 4.6822395}|\n",
      "|     4|[{1733, 4.760128}...|  {2204, 4.5960803}|\n",
      "+------+--------------------+-------------------+\n",
      "only showing top 20 rows\n",
      "\n"
     ]
    }
   ],
   "source": [
    "from pyspark.sql.functions import col, explode\n",
    "df2 = df.withColumn(\"movieid_rating\", explode(\"recommendations\"))\n",
    "df2.show()"
   ]
  },
  {
   "cell_type": "code",
   "execution_count": 79,
   "id": "5b8167bb",
   "metadata": {},
   "outputs": [
    {
     "name": "stdout",
     "output_type": "stream",
     "text": [
      "+------+-------+---------+\n",
      "|userId|movieId|   rating|\n",
      "+------+-------+---------+\n",
      "|     1|  96004| 5.806157|\n",
      "|     1| 170355| 5.806157|\n",
      "|     1|   3379| 5.806157|\n",
      "|     1|  33649| 5.629791|\n",
      "|     1|   5490| 5.577285|\n",
      "|     2| 131724| 4.805224|\n",
      "|     2|  69524| 4.535378|\n",
      "|     2|  96004|4.5284743|\n",
      "|     2| 170355|4.5284743|\n",
      "|     2|   3379|4.5284743|\n",
      "|     3|   5746|4.8621607|\n",
      "|     3|   6835|4.8621607|\n",
      "|     3|   5919| 4.766895|\n",
      "|     3|   5181| 4.759805|\n",
      "|     3|   2851| 4.734143|\n",
      "|     4|   1733| 4.760128|\n",
      "|     4|  25825|4.7033024|\n",
      "|     4|   1046| 4.688176|\n",
      "|     4|   4765|4.6822395|\n",
      "|     4|   2204|4.5960803|\n",
      "+------+-------+---------+\n",
      "only showing top 20 rows\n",
      "\n"
     ]
    }
   ],
   "source": [
    "df2.select(\"userId\", col(\"movieid_rating.movieId\"), col(\"movieid_rating.rating\")).show()"
   ]
  }
 ],
 "metadata": {
  "kernelspec": {
   "display_name": "Python 3",
   "language": "python",
   "name": "python3"
  },
  "language_info": {
   "codemirror_mode": {
    "name": "ipython",
    "version": 3
   },
   "file_extension": ".py",
   "mimetype": "text/x-python",
   "name": "python",
   "nbconvert_exporter": "python",
   "pygments_lexer": "ipython3",
   "version": "3.8.8"
  }
 },
 "nbformat": 4,
 "nbformat_minor": 5
}
