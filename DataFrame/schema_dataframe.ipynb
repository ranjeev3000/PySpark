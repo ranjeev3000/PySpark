{
 "cells": [
  {
   "cell_type": "code",
   "execution_count": 3,
   "id": "f960e313",
   "metadata": {},
   "outputs": [],
   "source": [
    "from pyspark.sql import SparkSession\n",
    "spark = SparkSession.builder.appName(\"Spark DataFrame\").getOrCreate()"
   ]
  },
  {
   "cell_type": "code",
   "execution_count": 4,
   "id": "ac422fa2",
   "metadata": {},
   "outputs": [
    {
     "data": {
      "text/html": [
       "\n",
       "            <div>\n",
       "                <p><b>SparkSession - in-memory</b></p>\n",
       "                \n",
       "        <div>\n",
       "            <p><b>SparkContext</b></p>\n",
       "\n",
       "            <p><a href=\"http://Ranjeev.mshome.net:4041\">Spark UI</a></p>\n",
       "\n",
       "            <dl>\n",
       "              <dt>Version</dt>\n",
       "                <dd><code>v3.3.2</code></dd>\n",
       "              <dt>Master</dt>\n",
       "                <dd><code>local[*]</code></dd>\n",
       "              <dt>AppName</dt>\n",
       "                <dd><code>Spark DataFrame</code></dd>\n",
       "            </dl>\n",
       "        </div>\n",
       "        \n",
       "            </div>\n",
       "        "
      ],
      "text/plain": [
       "<pyspark.sql.session.SparkSession at 0x204fdd063a0>"
      ]
     },
     "execution_count": 4,
     "metadata": {},
     "output_type": "execute_result"
    }
   ],
   "source": [
    "spark"
   ]
  },
  {
   "cell_type": "code",
   "execution_count": 7,
   "id": "fd1d3360",
   "metadata": {},
   "outputs": [
    {
     "name": "stdout",
     "output_type": "stream",
     "text": [
      "+---+------+----------------+------+------+-----+--------------------+\n",
      "|age|gender|            name|course|  roll|marks|               email|\n",
      "+---+------+----------------+------+------+-----+--------------------+\n",
      "| 28|Female| Hubert Oliveras|    DB|  2984|   59|Annika Hoffman_Na...|\n",
      "| 29|Female|Toshiko Hillyard| Cloud| 12899|   62|Margene Moores_Ma...|\n",
      "| 28|  Male|  Celeste Lollis|    PF| 21267|   45|Jeannetta Golden_...|\n",
      "| 29|Female|    Elenore Choy|    DB| 32877|   29|Billi Clore_Mitzi...|\n",
      "| 28|  Male|  Sheryll Towler|   DSA| 41487|   41|Claude Panos_Judi...|\n",
      "| 28|  Male|  Margene Moores|   MVC| 52771|   32|Toshiko Hillyard_...|\n",
      "| 28|  Male|     Neda Briski|   OOP| 61973|   69|Alberta Freund_El...|\n",
      "| 28|Female|    Claude Panos| Cloud| 72409|   85|Sheryll Towler_Al...|\n",
      "| 28|  Male|  Celeste Lollis|   MVC| 81492|   64|Nicole Harwood_Cl...|\n",
      "| 29|  Male|  Cordie Harnois|   OOP| 92882|   51|Judie Chipps_Clem...|\n",
      "| 29|Female|       Kena Wild|   DSA|102285|   35|Dustin Feagins_Ma...|\n",
      "| 29|  Male| Ernest Rossbach|    DB|111449|   53|Maybell Duguay_Ab...|\n",
      "| 28|Female|  Latia Vanhoose|    DB|122502|   27|Latia Vanhoose_Mi...|\n",
      "| 29|Female|  Latia Vanhoose|   MVC|132110|   55|Eda Neathery_Nico...|\n",
      "| 29|  Male|     Neda Briski|    PF|141770|   42|Margene Moores_Mi...|\n",
      "| 29|Female|  Latia Vanhoose|    DB|152159|   27|Claude Panos_Sant...|\n",
      "| 29|  Male|  Loris Crossett|   MVC|161771|   36|Mitzi Seldon_Jenn...|\n",
      "| 29|  Male|  Annika Hoffman|   OOP|171660|   22|Taryn Brownlee_Mi...|\n",
      "| 29|  Male|   Santa Kerfien|    PF|182129|   56|Judie Chipps_Tary...|\n",
      "| 28|Female|Mickey Cortright|    DB|192537|   62|Ernest Rossbach_M...|\n",
      "+---+------+----------------+------+------+-----+--------------------+\n",
      "only showing top 20 rows\n",
      "\n"
     ]
    }
   ],
   "source": [
    "df = spark.read.option('header',True).option('inferSchema',True).csv('StudentData.csv')\n",
    "df.show()"
   ]
  },
  {
   "cell_type": "code",
   "execution_count": 8,
   "id": "0125622c",
   "metadata": {},
   "outputs": [
    {
     "name": "stdout",
     "output_type": "stream",
     "text": [
      "root\n",
      " |-- age: integer (nullable = true)\n",
      " |-- gender: string (nullable = true)\n",
      " |-- name: string (nullable = true)\n",
      " |-- course: string (nullable = true)\n",
      " |-- roll: integer (nullable = true)\n",
      " |-- marks: integer (nullable = true)\n",
      " |-- email: string (nullable = true)\n",
      "\n"
     ]
    }
   ],
   "source": [
    "df.printSchema()"
   ]
  },
  {
   "cell_type": "code",
   "execution_count": 18,
   "id": "5bae59d1",
   "metadata": {},
   "outputs": [
    {
     "name": "stdout",
     "output_type": "stream",
     "text": [
      "root\n",
      " |-- age: integer (nullable = true)\n",
      " |-- gender: string (nullable = true)\n",
      " |-- name: string (nullable = true)\n",
      " |-- course: string (nullable = true)\n",
      " |-- roll: integer (nullable = true)\n",
      " |-- marks: integer (nullable = true)\n",
      " |-- email: string (nullable = true)\n",
      "\n"
     ]
    }
   ],
   "source": [
    "df1 = spark.read.options(inferSchema=True, header=True).csv('StudentData.csv')\n",
    "df1.printSchema()"
   ]
  },
  {
   "cell_type": "code",
   "execution_count": 22,
   "id": "b3e9021c",
   "metadata": {},
   "outputs": [
    {
     "name": "stdout",
     "output_type": "stream",
     "text": [
      "root\n",
      " |-- Hello   world: string (nullable = true)\n",
      "\n"
     ]
    },
    {
     "data": {
      "text/plain": [
       "['Hello   world']"
      ]
     },
     "execution_count": 22,
     "metadata": {},
     "output_type": "execute_result"
    }
   ],
   "source": [
    "df1 = spark.read.options(inferSchema=True, header=True, delimiter='\\t').csv('test_tab.csv')\n",
    "df1.printSchema()"
   ]
  },
  {
   "cell_type": "code",
   "execution_count": 24,
   "id": "81eb2875",
   "metadata": {},
   "outputs": [],
   "source": [
    "from pyspark.sql.types import StructType,StructField, StringType, IntegerType, DoubleType\n",
    "\n",
    "schema = StructType([\n",
    "    StructField(\"age\",IntegerType(),True),\n",
    "    StructField(\"gender\", StringType(), True),\n",
    "    StructField(\"name\", StringType(), True),\n",
    "    StructField(\"course\", StringType(), True),\n",
    "    StructField(\"roll\", StringType(), True),\n",
    "    StructField(\"marks\", IntegerType(), True),\n",
    "    StructField(\"email\", StringType(), True)\n",
    "])\n"
   ]
  },
  {
   "cell_type": "code",
   "execution_count": 25,
   "id": "025c8e0f",
   "metadata": {},
   "outputs": [
    {
     "name": "stdout",
     "output_type": "stream",
     "text": [
      "+---+------+----------------+------+------+-----+--------------------+\n",
      "|age|gender|            name|course|  roll|marks|               email|\n",
      "+---+------+----------------+------+------+-----+--------------------+\n",
      "| 28|Female| Hubert Oliveras|    DB| 02984|   59|Annika Hoffman_Na...|\n",
      "| 29|Female|Toshiko Hillyard| Cloud| 12899|   62|Margene Moores_Ma...|\n",
      "| 28|  Male|  Celeste Lollis|    PF| 21267|   45|Jeannetta Golden_...|\n",
      "| 29|Female|    Elenore Choy|    DB| 32877|   29|Billi Clore_Mitzi...|\n",
      "| 28|  Male|  Sheryll Towler|   DSA| 41487|   41|Claude Panos_Judi...|\n",
      "| 28|  Male|  Margene Moores|   MVC| 52771|   32|Toshiko Hillyard_...|\n",
      "| 28|  Male|     Neda Briski|   OOP| 61973|   69|Alberta Freund_El...|\n",
      "| 28|Female|    Claude Panos| Cloud| 72409|   85|Sheryll Towler_Al...|\n",
      "| 28|  Male|  Celeste Lollis|   MVC| 81492|   64|Nicole Harwood_Cl...|\n",
      "| 29|  Male|  Cordie Harnois|   OOP| 92882|   51|Judie Chipps_Clem...|\n",
      "| 29|Female|       Kena Wild|   DSA|102285|   35|Dustin Feagins_Ma...|\n",
      "| 29|  Male| Ernest Rossbach|    DB|111449|   53|Maybell Duguay_Ab...|\n",
      "| 28|Female|  Latia Vanhoose|    DB|122502|   27|Latia Vanhoose_Mi...|\n",
      "| 29|Female|  Latia Vanhoose|   MVC|132110|   55|Eda Neathery_Nico...|\n",
      "| 29|  Male|     Neda Briski|    PF|141770|   42|Margene Moores_Mi...|\n",
      "| 29|Female|  Latia Vanhoose|    DB|152159|   27|Claude Panos_Sant...|\n",
      "| 29|  Male|  Loris Crossett|   MVC|161771|   36|Mitzi Seldon_Jenn...|\n",
      "| 29|  Male|  Annika Hoffman|   OOP|171660|   22|Taryn Brownlee_Mi...|\n",
      "| 29|  Male|   Santa Kerfien|    PF|182129|   56|Judie Chipps_Tary...|\n",
      "| 28|Female|Mickey Cortright|    DB|192537|   62|Ernest Rossbach_M...|\n",
      "+---+------+----------------+------+------+-----+--------------------+\n",
      "only showing top 20 rows\n",
      "\n"
     ]
    }
   ],
   "source": [
    "df = spark.read.options(header = True,).schema(schema).csv('StudentData.csv')\n",
    "df.show()"
   ]
  },
  {
   "cell_type": "code",
   "execution_count": 28,
   "id": "bbc48cb2",
   "metadata": {},
   "outputs": [
    {
     "name": "stdout",
     "output_type": "stream",
     "text": [
      "root\n",
      " |-- age: integer (nullable = true)\n",
      " |-- gender: string (nullable = true)\n",
      " |-- name: string (nullable = true)\n",
      " |-- course: string (nullable = true)\n",
      " |-- roll: string (nullable = true)\n",
      " |-- marks: integer (nullable = true)\n",
      " |-- email: string (nullable = true)\n",
      "\n"
     ]
    }
   ],
   "source": [
    "df.printSchema()"
   ]
  },
  {
   "cell_type": "code",
   "execution_count": null,
   "id": "b5d8df54",
   "metadata": {},
   "outputs": [],
   "source": []
  },
  {
   "cell_type": "code",
   "execution_count": null,
   "id": "733390f6",
   "metadata": {},
   "outputs": [],
   "source": []
  }
 ],
 "metadata": {
  "kernelspec": {
   "display_name": "Python 3",
   "language": "python",
   "name": "python3"
  },
  "language_info": {
   "codemirror_mode": {
    "name": "ipython",
    "version": 3
   },
   "file_extension": ".py",
   "mimetype": "text/x-python",
   "name": "python",
   "nbconvert_exporter": "python",
   "pygments_lexer": "ipython3",
   "version": "3.8.8"
  }
 },
 "nbformat": 4,
 "nbformat_minor": 5
}
