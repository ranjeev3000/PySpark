{
 "cells": [
  {
   "cell_type": "code",
   "execution_count": 1,
   "id": "43bc3eed",
   "metadata": {},
   "outputs": [
    {
     "data": {
      "text/plain": [
       "\"\\n-> For the Project we'll be using OfficeDataProject.csv\\n-> Read data from the file in the DF and perform following analytiics with it:\\n    :) Print the total number of employees in the company\\n    :) Print the total number of departments in the company()\\n    :)Print the department names of the company\\n    :) Print the total number of employees in each department\\n    :)Print the total number of employees in each state\\n    :) Print the total number of employees in each state in each department\\n    :) Print the minimum and maximum salaries in each department and sort salaries in ascending order\\n    :) Print the name of employees working in NY stae under Finance department whose bonuses are greater than         an average bonuses of employees in NY state.\\n    :) Raise the salaries $500 of all employees whose age is greater than 45.\\n    :) Create DF of all those employees whose age is greater than 45 and save them in a file.\\n\""
      ]
     },
     "execution_count": 1,
     "metadata": {},
     "output_type": "execute_result"
    }
   ],
   "source": [
    "\"\"\"\n",
    "-> For the Project we'll be using OfficeDataProject.csv\n",
    "-> Read data from the file in the DF and perform following analytiics with it:\n",
    "    :) Print the total number of employees in the company\n",
    "    :) Print the total number of departments in the company()\n",
    "    :)Print the department names of the company\n",
    "    :) Print the total number of employees in each department\n",
    "    :)Print the total number of employees in each state\n",
    "    :) Print the total number of employees in each state in each department\n",
    "    :) Print the minimum and maximum salaries in each department and sort salaries in ascending order\n",
    "    :) Print the name of employees working in NY stae under Finance department whose bonuses are greater than \\\n",
    "        an average bonuses of employees in NY state.\n",
    "    :) Raise the salaries $500 of all employees whose age is greater than 45.\n",
    "    :) Create DF of all those employees whose age is greater than 45 and save them in a file.\n",
    "\"\"\""
   ]
  },
  {
   "cell_type": "code",
   "execution_count": 17,
   "id": "d46344a4",
   "metadata": {},
   "outputs": [],
   "source": [
    "from pyspark.sql import SparkSession\n",
    "from pyspark.sql.functions import col, lit, udf, count, min, max, avg, mean\n",
    "from pyspark.sql.types import IntegerType"
   ]
  },
  {
   "cell_type": "code",
   "execution_count": 4,
   "id": "3c5c5053",
   "metadata": {},
   "outputs": [
    {
     "data": {
      "text/html": [
       "\n",
       "            <div>\n",
       "                <p><b>SparkSession - in-memory</b></p>\n",
       "                \n",
       "        <div>\n",
       "            <p><b>SparkContext</b></p>\n",
       "\n",
       "            <p><a href=\"http://Ranjeev.mshome.net:4047\">Spark UI</a></p>\n",
       "\n",
       "            <dl>\n",
       "              <dt>Version</dt>\n",
       "                <dd><code>v3.3.2</code></dd>\n",
       "              <dt>Master</dt>\n",
       "                <dd><code>local[*]</code></dd>\n",
       "              <dt>AppName</dt>\n",
       "                <dd><code>spark_mini_project</code></dd>\n",
       "            </dl>\n",
       "        </div>\n",
       "        \n",
       "            </div>\n",
       "        "
      ],
      "text/plain": [
       "<pyspark.sql.session.SparkSession at 0x1876e3764f0>"
      ]
     },
     "execution_count": 4,
     "metadata": {},
     "output_type": "execute_result"
    }
   ],
   "source": [
    "spark = SparkSession.builder.appName(\"spark_mini_project\").getOrCreate()\n",
    "spark"
   ]
  },
  {
   "cell_type": "code",
   "execution_count": 5,
   "id": "00d7e079",
   "metadata": {},
   "outputs": [
    {
     "name": "stdout",
     "output_type": "stream",
     "text": [
      "+-----------+-------------------+----------+-----+------+---+-----+\n",
      "|employee_id|      employee_name|department|state|salary|age|bonus|\n",
      "+-----------+-------------------+----------+-----+------+---+-----+\n",
      "|       1000|          Nitz Leif| Marketing|   CA|  6131| 26|  543|\n",
      "|       1001|    Melissia Dedman|   Finance|   AK|  4027| 43| 1290|\n",
      "|       1002|  Rudolph Barringer|        HR|   LA|  3122| 43| 1445|\n",
      "|       1003|        Tamra Amber|  Accounts|   AK|  5717| 47| 1291|\n",
      "|       1004|        Mullan Nitz|Purchasing|   CA|  5685| 34| 1394|\n",
      "|       1005|      Zollner Karie|  Accounts|   CA|  2843| 27| 1078|\n",
      "|       1006|Kaczorowski Zollner|     Sales|   CA|  7201| 21| 1834|\n",
      "|       1007|      Nakano Locust| Marketing|   LA|  3444| 23| 1823|\n",
      "|       1008|  Recalde Kensinger|  Accounts|   LA|  3704| 48| 1330|\n",
      "|       1009|        Imai Hallie|  Accounts|   AK|  5061| 38| 1557|\n",
      "|       1010|    Debroah Gallman|  Accounts|   NY|  9308| 35|  817|\n",
      "|       1011|   Barringer Escoto|Purchasing|   WA|  1685| 49| 1706|\n",
      "|       1012|      Soules Coogan|  Accounts|   AK|  8330| 43| 1914|\n",
      "|       1013|      Luisa Suzanne|  Accounts|   CA|  1151| 37| 1095|\n",
      "|       1014|      Marvis Cobian|Purchasing|   NY|  5061| 41| 1765|\n",
      "|       1015|   Cobian Kensinger|     Sales|   LA|  1983| 21|  632|\n",
      "|       1016|      Gilma Margret| Marketing|   CA|  2919| 45| 1762|\n",
      "|       1017| Ellingsworth Ilana|  Accounts|   WA|  9614| 26| 1964|\n",
      "|       1018| Vankirk Jacquelyne|Purchasing|   NY|  8636| 47| 1192|\n",
      "|       1019|    Zollner Juliana|        HR|   NY|  9739| 30| 1119|\n",
      "+-----------+-------------------+----------+-----+------+---+-----+\n",
      "only showing top 20 rows\n",
      "\n"
     ]
    }
   ],
   "source": [
    "df = spark.read.options(header = True, inferSchema = True).csv(\"OfficeDataProject.csv\")\n",
    "df.show()"
   ]
  },
  {
   "cell_type": "code",
   "execution_count": 10,
   "id": "88b20e66",
   "metadata": {},
   "outputs": [
    {
     "name": "stdout",
     "output_type": "stream",
     "text": [
      " Total Number of Employees in the Company = 939\n"
     ]
    }
   ],
   "source": [
    "# 1. Print the total number of Employees in the company\n",
    "n_employee = df.select(df.employee_name).distinct().count()\n",
    "print(f\" Total Number of Employees in the Company = {n_employee}\")"
   ]
  },
  {
   "cell_type": "code",
   "execution_count": 15,
   "id": "6bec6a0d",
   "metadata": {},
   "outputs": [
    {
     "name": "stdout",
     "output_type": "stream",
     "text": [
      "Total Number of departments in the comapny = 6\n"
     ]
    }
   ],
   "source": [
    "# 2. Print the total number of departments in the company()\n",
    "n_department = df.select(col(\"department\")).distinct().count()\n",
    "print(f\"Total Number of departments in the comapny = {n_department}\")"
   ]
  },
  {
   "cell_type": "code",
   "execution_count": 16,
   "id": "8e1a7947",
   "metadata": {},
   "outputs": [
    {
     "name": "stdout",
     "output_type": "stream",
     "text": [
      "+----------+\n",
      "|department|\n",
      "+----------+\n",
      "|     Sales|\n",
      "|        HR|\n",
      "|   Finance|\n",
      "|Purchasing|\n",
      "| Marketing|\n",
      "|  Accounts|\n",
      "+----------+\n",
      "\n"
     ]
    }
   ],
   "source": [
    "# 3. Print the department names of the company\n",
    "df.select(col(\"department\")).distinct().show()"
   ]
  },
  {
   "cell_type": "code",
   "execution_count": 26,
   "id": "9a1fd820",
   "metadata": {},
   "outputs": [
    {
     "name": "stdout",
     "output_type": "stream",
     "text": [
      "+----------+-----------------------------+\n",
      "|department|Total_Employee_per_department|\n",
      "+----------+-----------------------------+\n",
      "|     Sales|                          169|\n",
      "|        HR|                          171|\n",
      "|   Finance|                          162|\n",
      "|Purchasing|                          166|\n",
      "| Marketing|                          170|\n",
      "|  Accounts|                          162|\n",
      "+----------+-----------------------------+\n",
      "\n"
     ]
    }
   ],
   "source": [
    "# 4.  Print the total number of employees in each department\n",
    "\n",
    "df.groupBy(\"department\").agg(count('*').alias('Total_Employee_per_department')).show()"
   ]
  },
  {
   "cell_type": "code",
   "execution_count": 25,
   "id": "f1489ff8",
   "metadata": {},
   "outputs": [
    {
     "name": "stdout",
     "output_type": "stream",
     "text": [
      "+-----+------------------+\n",
      "|state|Employee_per_state|\n",
      "+-----+------------------+\n",
      "|   LA|               205|\n",
      "|   CA|               205|\n",
      "|   WA|               208|\n",
      "|   NY|               173|\n",
      "|   AK|               209|\n",
      "+-----+------------------+\n",
      "\n"
     ]
    }
   ],
   "source": [
    "# 5. Print the total number of employees in each state\n",
    "df.groupBy(\"state\").agg(count('*').alias(\"Employee_per_state\")).show()"
   ]
  },
  {
   "cell_type": "code",
   "execution_count": 30,
   "id": "a202f0c2",
   "metadata": {},
   "outputs": [
    {
     "name": "stdout",
     "output_type": "stream",
     "text": [
      "+-----+----------+---------------------------------+\n",
      "|state|department|Employye_per_state_per_department|\n",
      "+-----+----------+---------------------------------+\n",
      "|   AK|        HR|                               25|\n",
      "|   AK|Purchasing|                               30|\n",
      "|   AK|  Accounts|                               37|\n",
      "|   AK|   Finance|                               37|\n",
      "|   AK|     Sales|                               38|\n",
      "|   AK| Marketing|                               42|\n",
      "|   CA|        HR|                               28|\n",
      "|   CA|Purchasing|                               32|\n",
      "|   CA| Marketing|                               33|\n",
      "|   CA|   Finance|                               35|\n",
      "|   CA|  Accounts|                               35|\n",
      "|   CA|     Sales|                               42|\n",
      "|   LA| Marketing|                               26|\n",
      "|   LA|  Accounts|                               29|\n",
      "|   LA|   Finance|                               29|\n",
      "|   LA|     Sales|                               35|\n",
      "|   LA|        HR|                               41|\n",
      "|   LA|Purchasing|                               45|\n",
      "|   NY|Purchasing|                               21|\n",
      "|   NY|     Sales|                               27|\n",
      "+-----+----------+---------------------------------+\n",
      "only showing top 20 rows\n",
      "\n"
     ]
    }
   ],
   "source": [
    "# 6. Print the total number of employees in each state in each department\n",
    "df.groupBy(\"state\",\"department\").agg(count('*').alias(\"Employye_per_state_per_department\"))\\\n",
    ".sort(col(\"state\"), col(\"Employye_per_state_per_department\")).show()"
   ]
  },
  {
   "cell_type": "code",
   "execution_count": 41,
   "id": "97145283",
   "metadata": {},
   "outputs": [
    {
     "name": "stdout",
     "output_type": "stream",
     "text": [
      "+----------+----------+----------+\n",
      "|department|Min_Salary|Max_Salary|\n",
      "+----------+----------+----------+\n",
      "|   Finance|      1006|      9899|\n",
      "|  Accounts|      1007|      9890|\n",
      "|        HR|      1013|      9982|\n",
      "| Marketing|      1031|      9974|\n",
      "|     Sales|      1103|      9982|\n",
      "|Purchasing|      1105|      9985|\n",
      "+----------+----------+----------+\n",
      "\n"
     ]
    }
   ],
   "source": [
    "# 7. Print the minimum and maximum salaries in each department and sort salaries in ascending order\n",
    "df.groupBy(\"department\").agg(min(\"salary\")\\\n",
    "                             .alias(\"Min_Salary\"), max(\"salary\").alias(\"Max_Salary\")).sort(col(\"Min_Salary\"),col(\"Max_Salary\")).show()"
   ]
  },
  {
   "cell_type": "code",
   "execution_count": 47,
   "id": "a4e1fe14",
   "metadata": {},
   "outputs": [
    {
     "name": "stdout",
     "output_type": "stream",
     "text": [
      "+-----+------------------+\n",
      "|state|        avg(bonus)|\n",
      "+-----+------------------+\n",
      "|   NY|1251.3468208092486|\n",
      "+-----+------------------+\n",
      "\n"
     ]
    }
   ],
   "source": [
    "# 8. Print the name of employees working in NY stae under Finance department whose bonuses are greater than \\\n",
    "#         an average bonuses of employees in NY state.\n",
    "avg_employee_bonus_NY = df.filter(df.state == 'NY').groupBy(\"state\").agg(avg('bonus'))\n",
    "avg_employee_bonus_NY.show()"
   ]
  },
  {
   "cell_type": "code",
   "execution_count": 68,
   "id": "c0d269a1",
   "metadata": {},
   "outputs": [],
   "source": [
    "avg_NY_bonus_rdd = avg_employee_bonus_NY.rdd.collect()[0]['avg(bonus)']"
   ]
  },
  {
   "cell_type": "code",
   "execution_count": 75,
   "id": "98d2c134",
   "metadata": {},
   "outputs": [
    {
     "name": "stdout",
     "output_type": "stream",
     "text": [
      "+-----------+--------------------+----------+-----+------+---+-----+\n",
      "|employee_id|       employee_name|department|state|salary|age|bonus|\n",
      "+-----------+--------------------+----------+-----+------+---+-----+\n",
      "|       1035|       Vivan Sifford|   Finance|   NY|  1129| 35| 1261|\n",
      "|       1073|      Herder Gallman|   Finance|   NY|  1988| 31| 1402|\n",
      "|       1082|          Nena Rocha|   Finance|   NY|  3417| 25| 1647|\n",
      "|       1087|       Leif Lemaster|   Finance|   NY|  8642| 45| 1782|\n",
      "|       1100|Ellingsworth Meli...|   Finance|   NY|  7845| 32| 1358|\n",
      "|       1127|        Escoto Gilma|   Finance|   NY|  3426| 41| 1285|\n",
      "|       1161|     Georgeanna Laub|   Finance|   NY|  2469| 26| 1679|\n",
      "|       1175|     Durio Tenenbaum|   Finance|   NY|  2253| 42| 1684|\n",
      "|       1180|       Juliana Grigg|   Finance|   NY|  8178| 42| 1617|\n",
      "|       1215|        Tiffani Benz|   Finance|   NY|  1665| 41| 1969|\n",
      "|       1220|          Nitz Ilana|   Finance|   NY|  2443| 50| 1342|\n",
      "|       1342|   Phylicia Antonina|   Finance|   NY|  8626| 30| 1857|\n",
      "|       1414|         Durio Janey|   Finance|   NY|  2992| 46| 1733|\n",
      "|       1660|       Melissia Jere|   Finance|   NY|  9201| 21| 1533|\n",
      "|       1737|      Yukiko Kreamer|   Finance|   NY|  7396| 20| 1332|\n",
      "|       1738|      Nena Kensinger|   Finance|   NY|  8534| 41| 1610|\n",
      "|       1815|      Antonina Ilana|   Finance|   NY|  2944| 28| 1718|\n",
      "+-----------+--------------------+----------+-----+------+---+-----+\n",
      "\n"
     ]
    }
   ],
   "source": [
    "df.filter((df.state == 'NY') & (df.department == 'Finance') & (df.bonus>avg_NY_bonus_rdd)).show()"
   ]
  },
  {
   "cell_type": "code",
   "execution_count": 70,
   "id": "a40e8ca9",
   "metadata": {},
   "outputs": [],
   "source": [
    "# 9. Raise the salaries $500 of all employees whose age is greater than 45.\n",
    "def incr_salary(age, salary):\n",
    "    if age>45:\n",
    "        salary+=500\n",
    "    return salary\n",
    "\n",
    "incr_salary_udf = udf(lambda x,y: incr_salary(x,y), IntegerType())"
   ]
  },
  {
   "cell_type": "code",
   "execution_count": 71,
   "id": "0f138921",
   "metadata": {},
   "outputs": [
    {
     "name": "stdout",
     "output_type": "stream",
     "text": [
      "+-----------+-------------------+----------+-----+------+---+-----+----------+\n",
      "|employee_id|      employee_name|department|state|salary|age|bonus|New_Salary|\n",
      "+-----------+-------------------+----------+-----+------+---+-----+----------+\n",
      "|       1000|          Nitz Leif| Marketing|   CA|  6131| 26|  543|      6131|\n",
      "|       1001|    Melissia Dedman|   Finance|   AK|  4027| 43| 1290|      4027|\n",
      "|       1002|  Rudolph Barringer|        HR|   LA|  3122| 43| 1445|      3122|\n",
      "|       1003|        Tamra Amber|  Accounts|   AK|  5717| 47| 1291|      6217|\n",
      "|       1004|        Mullan Nitz|Purchasing|   CA|  5685| 34| 1394|      5685|\n",
      "|       1005|      Zollner Karie|  Accounts|   CA|  2843| 27| 1078|      2843|\n",
      "|       1006|Kaczorowski Zollner|     Sales|   CA|  7201| 21| 1834|      7201|\n",
      "|       1007|      Nakano Locust| Marketing|   LA|  3444| 23| 1823|      3444|\n",
      "|       1008|  Recalde Kensinger|  Accounts|   LA|  3704| 48| 1330|      4204|\n",
      "|       1009|        Imai Hallie|  Accounts|   AK|  5061| 38| 1557|      5061|\n",
      "|       1010|    Debroah Gallman|  Accounts|   NY|  9308| 35|  817|      9308|\n",
      "|       1011|   Barringer Escoto|Purchasing|   WA|  1685| 49| 1706|      2185|\n",
      "|       1012|      Soules Coogan|  Accounts|   AK|  8330| 43| 1914|      8330|\n",
      "|       1013|      Luisa Suzanne|  Accounts|   CA|  1151| 37| 1095|      1151|\n",
      "|       1014|      Marvis Cobian|Purchasing|   NY|  5061| 41| 1765|      5061|\n",
      "|       1015|   Cobian Kensinger|     Sales|   LA|  1983| 21|  632|      1983|\n",
      "|       1016|      Gilma Margret| Marketing|   CA|  2919| 45| 1762|      2919|\n",
      "|       1017| Ellingsworth Ilana|  Accounts|   WA|  9614| 26| 1964|      9614|\n",
      "|       1018| Vankirk Jacquelyne|Purchasing|   NY|  8636| 47| 1192|      9136|\n",
      "|       1019|    Zollner Juliana|        HR|   NY|  9739| 30| 1119|      9739|\n",
      "+-----------+-------------------+----------+-----+------+---+-----+----------+\n",
      "only showing top 20 rows\n",
      "\n"
     ]
    }
   ],
   "source": [
    "df.withColumn(\"New_Salary\", incr_salary_udf(df.age, df.salary)).show()"
   ]
  },
  {
   "cell_type": "code",
   "execution_count": 72,
   "id": "4693a5b0",
   "metadata": {},
   "outputs": [
    {
     "name": "stdout",
     "output_type": "stream",
     "text": [
      "+-----------+------------------+----------+-----+------+---+-----+\n",
      "|employee_id|     employee_name|department|state|salary|age|bonus|\n",
      "+-----------+------------------+----------+-----+------+---+-----+\n",
      "|       1003|       Tamra Amber|  Accounts|   AK|  5717| 47| 1291|\n",
      "|       1008| Recalde Kensinger|  Accounts|   LA|  3704| 48| 1330|\n",
      "|       1011|  Barringer Escoto|Purchasing|   WA|  1685| 49| 1706|\n",
      "|       1018|Vankirk Jacquelyne|Purchasing|   NY|  8636| 47| 1192|\n",
      "|       1025|   Dionne Lemaster|     Sales|   AK|  5134| 48| 1356|\n",
      "|       1030|        Trena Benz|  Accounts|   NY|  4376| 49| 1624|\n",
      "|       1039|      Dynes Katlyn|  Accounts|   AK|  3039| 48|  834|\n",
      "|       1058|      Clune Norene|   Finance|   AK|  1605| 49|  801|\n",
      "|       1074|      Rocha Dionne|  Accounts|   CA|  3470| 49|  706|\n",
      "|       1088|       Imai Locust|     Sales|   NY|  9982| 49| 1809|\n",
      "|       1090| Clemencia Rudolph|   Finance|   NY|  1296| 50| 1209|\n",
      "|       1099|    Zollner Marvis|Purchasing|   CA|  4230| 50|  951|\n",
      "|       1118|     Kohn Antonina|     Sales|   CA|  9311| 48| 1229|\n",
      "|       1126|     Norene Mayeda|  Accounts|   LA|  3100| 50| 1333|\n",
      "|       1136|      Jaclyn Baros|     Sales|   LA|  1699| 48| 1094|\n",
      "|       1164|    Gallman Nakano|     Sales|   CA|  6813| 47|  857|\n",
      "|       1165|       Luisa Grigg|Purchasing|   AK|  9297| 48| 1545|\n",
      "|       1169|   Kreamer Shandra|        HR|   WA|  4968| 46|  889|\n",
      "|       1170|     Fender Coogan| Marketing|   AK|  1151| 50| 1845|\n",
      "|       1183|  Lonergan Bergren|        HR|   NY|  8175| 46| 1730|\n",
      "+-----------+------------------+----------+-----+------+---+-----+\n",
      "only showing top 20 rows\n",
      "\n"
     ]
    }
   ],
   "source": [
    "# 10. Create DF of all those employees whose age is greater than 45 and save them in a file\n",
    "df_age_greater_45 = df.filter(df.age>45)\n",
    "df_age_greater_45.show()"
   ]
  },
  {
   "cell_type": "code",
   "execution_count": 78,
   "id": "1948c169",
   "metadata": {},
   "outputs": [
    {
     "ename": "Py4JJavaError",
     "evalue": "An error occurred while calling o529.csv.\n: org.apache.spark.SparkException: Job aborted.\r\n\tat org.apache.spark.sql.errors.QueryExecutionErrors$.jobAbortedError(QueryExecutionErrors.scala:651)\r\n\tat org.apache.spark.sql.execution.datasources.FileFormatWriter$.write(FileFormatWriter.scala:288)\r\n\tat org.apache.spark.sql.execution.datasources.InsertIntoHadoopFsRelationCommand.run(InsertIntoHadoopFsRelationCommand.scala:186)\r\n\tat org.apache.spark.sql.execution.command.DataWritingCommandExec.sideEffectResult$lzycompute(commands.scala:113)\r\n\tat org.apache.spark.sql.execution.command.DataWritingCommandExec.sideEffectResult(commands.scala:111)\r\n\tat org.apache.spark.sql.execution.command.DataWritingCommandExec.executeCollect(commands.scala:125)\r\n\tat org.apache.spark.sql.execution.QueryExecution$$anonfun$eagerlyExecuteCommands$1.$anonfun$applyOrElse$1(QueryExecution.scala:98)\r\n\tat org.apache.spark.sql.execution.SQLExecution$.$anonfun$withNewExecutionId$6(SQLExecution.scala:109)\r\n\tat org.apache.spark.sql.execution.SQLExecution$.withSQLConfPropagated(SQLExecution.scala:169)\r\n\tat org.apache.spark.sql.execution.SQLExecution$.$anonfun$withNewExecutionId$1(SQLExecution.scala:95)\r\n\tat org.apache.spark.sql.SparkSession.withActive(SparkSession.scala:779)\r\n\tat org.apache.spark.sql.execution.SQLExecution$.withNewExecutionId(SQLExecution.scala:64)\r\n\tat org.apache.spark.sql.execution.QueryExecution$$anonfun$eagerlyExecuteCommands$1.applyOrElse(QueryExecution.scala:98)\r\n\tat org.apache.spark.sql.execution.QueryExecution$$anonfun$eagerlyExecuteCommands$1.applyOrElse(QueryExecution.scala:94)\r\n\tat org.apache.spark.sql.catalyst.trees.TreeNode.$anonfun$transformDownWithPruning$1(TreeNode.scala:584)\r\n\tat org.apache.spark.sql.catalyst.trees.CurrentOrigin$.withOrigin(TreeNode.scala:176)\r\n\tat org.apache.spark.sql.catalyst.trees.TreeNode.transformDownWithPruning(TreeNode.scala:584)\r\n\tat org.apache.spark.sql.catalyst.plans.logical.LogicalPlan.org$apache$spark$sql$catalyst$plans$logical$AnalysisHelper$$super$transformDownWithPruning(LogicalPlan.scala:30)\r\n\tat org.apache.spark.sql.catalyst.plans.logical.AnalysisHelper.transformDownWithPruning(AnalysisHelper.scala:267)\r\n\tat org.apache.spark.sql.catalyst.plans.logical.AnalysisHelper.transformDownWithPruning$(AnalysisHelper.scala:263)\r\n\tat org.apache.spark.sql.catalyst.plans.logical.LogicalPlan.transformDownWithPruning(LogicalPlan.scala:30)\r\n\tat org.apache.spark.sql.catalyst.plans.logical.LogicalPlan.transformDownWithPruning(LogicalPlan.scala:30)\r\n\tat org.apache.spark.sql.catalyst.trees.TreeNode.transformDown(TreeNode.scala:560)\r\n\tat org.apache.spark.sql.execution.QueryExecution.eagerlyExecuteCommands(QueryExecution.scala:94)\r\n\tat org.apache.spark.sql.execution.QueryExecution.commandExecuted$lzycompute(QueryExecution.scala:81)\r\n\tat org.apache.spark.sql.execution.QueryExecution.commandExecuted(QueryExecution.scala:79)\r\n\tat org.apache.spark.sql.execution.QueryExecution.assertCommandExecuted(QueryExecution.scala:116)\r\n\tat org.apache.spark.sql.DataFrameWriter.runCommand(DataFrameWriter.scala:860)\r\n\tat org.apache.spark.sql.DataFrameWriter.saveToV1Source(DataFrameWriter.scala:390)\r\n\tat org.apache.spark.sql.DataFrameWriter.saveInternal(DataFrameWriter.scala:363)\r\n\tat org.apache.spark.sql.DataFrameWriter.save(DataFrameWriter.scala:239)\r\n\tat org.apache.spark.sql.DataFrameWriter.csv(DataFrameWriter.scala:851)\r\n\tat sun.reflect.NativeMethodAccessorImpl.invoke0(Native Method)\r\n\tat sun.reflect.NativeMethodAccessorImpl.invoke(Unknown Source)\r\n\tat sun.reflect.DelegatingMethodAccessorImpl.invoke(Unknown Source)\r\n\tat java.lang.reflect.Method.invoke(Unknown Source)\r\n\tat py4j.reflection.MethodInvoker.invoke(MethodInvoker.java:244)\r\n\tat py4j.reflection.ReflectionEngine.invoke(ReflectionEngine.java:357)\r\n\tat py4j.Gateway.invoke(Gateway.java:282)\r\n\tat py4j.commands.AbstractCommand.invokeMethod(AbstractCommand.java:132)\r\n\tat py4j.commands.CallCommand.execute(CallCommand.java:79)\r\n\tat py4j.ClientServerConnection.waitForCommands(ClientServerConnection.java:182)\r\n\tat py4j.ClientServerConnection.run(ClientServerConnection.java:106)\r\n\tat java.lang.Thread.run(Unknown Source)\r\nCaused by: java.lang.UnsatisfiedLinkError: org.apache.hadoop.io.nativeio.NativeIO$Windows.access0(Ljava/lang/String;I)Z\r\n\tat org.apache.hadoop.io.nativeio.NativeIO$Windows.access0(Native Method)\r\n\tat org.apache.hadoop.io.nativeio.NativeIO$Windows.access(NativeIO.java:793)\r\n\tat org.apache.hadoop.fs.FileUtil.canRead(FileUtil.java:1218)\r\n\tat org.apache.hadoop.fs.FileUtil.list(FileUtil.java:1423)\r\n\tat org.apache.hadoop.fs.RawLocalFileSystem.listStatus(RawLocalFileSystem.java:601)\r\n\tat org.apache.hadoop.fs.FileSystem.listStatus(FileSystem.java:1972)\r\n\tat org.apache.hadoop.fs.FileSystem.listStatus(FileSystem.java:2014)\r\n\tat org.apache.hadoop.fs.ChecksumFileSystem.listStatus(ChecksumFileSystem.java:761)\r\n\tat org.apache.hadoop.fs.FileSystem.listStatus(FileSystem.java:1972)\r\n\tat org.apache.hadoop.fs.FileSystem.listStatus(FileSystem.java:2014)\r\n\tat org.apache.hadoop.mapreduce.lib.output.FileOutputCommitter.getAllCommittedTaskPaths(FileOutputCommitter.java:334)\r\n\tat org.apache.hadoop.mapreduce.lib.output.FileOutputCommitter.commitJobInternal(FileOutputCommitter.java:404)\r\n\tat org.apache.hadoop.mapreduce.lib.output.FileOutputCommitter.commitJob(FileOutputCommitter.java:377)\r\n\tat org.apache.spark.internal.io.HadoopMapReduceCommitProtocol.commitJob(HadoopMapReduceCommitProtocol.scala:192)\r\n\tat org.apache.spark.sql.execution.datasources.FileFormatWriter$.$anonfun$write$26(FileFormatWriter.scala:277)\r\n\tat scala.runtime.java8.JFunction0$mcV$sp.apply(JFunction0$mcV$sp.java:23)\r\n\tat org.apache.spark.util.Utils$.timeTakenMs(Utils.scala:642)\r\n\tat org.apache.spark.sql.execution.datasources.FileFormatWriter$.write(FileFormatWriter.scala:277)\r\n\t... 42 more\r\n",
     "output_type": "error",
     "traceback": [
      "\u001b[1;31m---------------------------------------------------------------------------\u001b[0m",
      "\u001b[1;31mPy4JJavaError\u001b[0m                             Traceback (most recent call last)",
      "Input \u001b[1;32mIn [78]\u001b[0m, in \u001b[0;36m<cell line: 1>\u001b[1;34m()\u001b[0m\n\u001b[1;32m----> 1\u001b[0m \u001b[43mdf_age_greater_45\u001b[49m\u001b[38;5;241;43m.\u001b[39;49m\u001b[43mwrite\u001b[49m\u001b[38;5;241;43m.\u001b[39;49m\u001b[43mcsv\u001b[49m\u001b[43m(\u001b[49m\u001b[38;5;124;43m'\u001b[39;49m\u001b[38;5;124;43mOfficeDataProject/out\u001b[39;49m\u001b[38;5;124;43m'\u001b[39;49m\u001b[43m)\u001b[49m\n",
      "File \u001b[1;32m~\\anaconda3\\lib\\site-packages\\pyspark\\sql\\readwriter.py:1372\u001b[0m, in \u001b[0;36mDataFrameWriter.csv\u001b[1;34m(self, path, mode, compression, sep, quote, escape, header, nullValue, escapeQuotes, quoteAll, dateFormat, timestampFormat, ignoreLeadingWhiteSpace, ignoreTrailingWhiteSpace, charToEscapeQuoteEscaping, encoding, emptyValue, lineSep)\u001b[0m\n\u001b[0;32m   1364\u001b[0m \u001b[38;5;28mself\u001b[39m\u001b[38;5;241m.\u001b[39mmode(mode)\n\u001b[0;32m   1365\u001b[0m \u001b[38;5;28mself\u001b[39m\u001b[38;5;241m.\u001b[39m_set_opts(compression\u001b[38;5;241m=\u001b[39mcompression, sep\u001b[38;5;241m=\u001b[39msep, quote\u001b[38;5;241m=\u001b[39mquote, escape\u001b[38;5;241m=\u001b[39mescape, header\u001b[38;5;241m=\u001b[39mheader,\n\u001b[0;32m   1366\u001b[0m                nullValue\u001b[38;5;241m=\u001b[39mnullValue, escapeQuotes\u001b[38;5;241m=\u001b[39mescapeQuotes, quoteAll\u001b[38;5;241m=\u001b[39mquoteAll,\n\u001b[0;32m   1367\u001b[0m                dateFormat\u001b[38;5;241m=\u001b[39mdateFormat, timestampFormat\u001b[38;5;241m=\u001b[39mtimestampFormat,\n\u001b[1;32m   (...)\u001b[0m\n\u001b[0;32m   1370\u001b[0m                charToEscapeQuoteEscaping\u001b[38;5;241m=\u001b[39mcharToEscapeQuoteEscaping,\n\u001b[0;32m   1371\u001b[0m                encoding\u001b[38;5;241m=\u001b[39mencoding, emptyValue\u001b[38;5;241m=\u001b[39memptyValue, lineSep\u001b[38;5;241m=\u001b[39mlineSep)\n\u001b[1;32m-> 1372\u001b[0m \u001b[38;5;28;43mself\u001b[39;49m\u001b[38;5;241;43m.\u001b[39;49m\u001b[43m_jwrite\u001b[49m\u001b[38;5;241;43m.\u001b[39;49m\u001b[43mcsv\u001b[49m\u001b[43m(\u001b[49m\u001b[43mpath\u001b[49m\u001b[43m)\u001b[49m\n",
      "File \u001b[1;32m~\\anaconda3\\lib\\site-packages\\py4j\\java_gateway.py:1304\u001b[0m, in \u001b[0;36mJavaMember.__call__\u001b[1;34m(self, *args)\u001b[0m\n\u001b[0;32m   1298\u001b[0m command \u001b[38;5;241m=\u001b[39m proto\u001b[38;5;241m.\u001b[39mCALL_COMMAND_NAME \u001b[38;5;241m+\u001b[39m\\\n\u001b[0;32m   1299\u001b[0m     \u001b[38;5;28mself\u001b[39m\u001b[38;5;241m.\u001b[39mcommand_header \u001b[38;5;241m+\u001b[39m\\\n\u001b[0;32m   1300\u001b[0m     args_command \u001b[38;5;241m+\u001b[39m\\\n\u001b[0;32m   1301\u001b[0m     proto\u001b[38;5;241m.\u001b[39mEND_COMMAND_PART\n\u001b[0;32m   1303\u001b[0m answer \u001b[38;5;241m=\u001b[39m \u001b[38;5;28mself\u001b[39m\u001b[38;5;241m.\u001b[39mgateway_client\u001b[38;5;241m.\u001b[39msend_command(command)\n\u001b[1;32m-> 1304\u001b[0m return_value \u001b[38;5;241m=\u001b[39m \u001b[43mget_return_value\u001b[49m\u001b[43m(\u001b[49m\n\u001b[0;32m   1305\u001b[0m \u001b[43m    \u001b[49m\u001b[43manswer\u001b[49m\u001b[43m,\u001b[49m\u001b[43m \u001b[49m\u001b[38;5;28;43mself\u001b[39;49m\u001b[38;5;241;43m.\u001b[39;49m\u001b[43mgateway_client\u001b[49m\u001b[43m,\u001b[49m\u001b[43m \u001b[49m\u001b[38;5;28;43mself\u001b[39;49m\u001b[38;5;241;43m.\u001b[39;49m\u001b[43mtarget_id\u001b[49m\u001b[43m,\u001b[49m\u001b[43m \u001b[49m\u001b[38;5;28;43mself\u001b[39;49m\u001b[38;5;241;43m.\u001b[39;49m\u001b[43mname\u001b[49m\u001b[43m)\u001b[49m\n\u001b[0;32m   1307\u001b[0m \u001b[38;5;28;01mfor\u001b[39;00m temp_arg \u001b[38;5;129;01min\u001b[39;00m temp_args:\n\u001b[0;32m   1308\u001b[0m     temp_arg\u001b[38;5;241m.\u001b[39m_detach()\n",
      "File \u001b[1;32m~\\anaconda3\\lib\\site-packages\\pyspark\\sql\\utils.py:111\u001b[0m, in \u001b[0;36mcapture_sql_exception.<locals>.deco\u001b[1;34m(*a, **kw)\u001b[0m\n\u001b[0;32m    109\u001b[0m \u001b[38;5;28;01mdef\u001b[39;00m \u001b[38;5;21mdeco\u001b[39m(\u001b[38;5;241m*\u001b[39ma, \u001b[38;5;241m*\u001b[39m\u001b[38;5;241m*\u001b[39mkw):\n\u001b[0;32m    110\u001b[0m     \u001b[38;5;28;01mtry\u001b[39;00m:\n\u001b[1;32m--> 111\u001b[0m         \u001b[38;5;28;01mreturn\u001b[39;00m \u001b[43mf\u001b[49m\u001b[43m(\u001b[49m\u001b[38;5;241;43m*\u001b[39;49m\u001b[43ma\u001b[49m\u001b[43m,\u001b[49m\u001b[43m \u001b[49m\u001b[38;5;241;43m*\u001b[39;49m\u001b[38;5;241;43m*\u001b[39;49m\u001b[43mkw\u001b[49m\u001b[43m)\u001b[49m\n\u001b[0;32m    112\u001b[0m     \u001b[38;5;28;01mexcept\u001b[39;00m py4j\u001b[38;5;241m.\u001b[39mprotocol\u001b[38;5;241m.\u001b[39mPy4JJavaError \u001b[38;5;28;01mas\u001b[39;00m e:\n\u001b[0;32m    113\u001b[0m         converted \u001b[38;5;241m=\u001b[39m convert_exception(e\u001b[38;5;241m.\u001b[39mjava_exception)\n",
      "File \u001b[1;32m~\\anaconda3\\lib\\site-packages\\py4j\\protocol.py:326\u001b[0m, in \u001b[0;36mget_return_value\u001b[1;34m(answer, gateway_client, target_id, name)\u001b[0m\n\u001b[0;32m    324\u001b[0m value \u001b[38;5;241m=\u001b[39m OUTPUT_CONVERTER[\u001b[38;5;28mtype\u001b[39m](answer[\u001b[38;5;241m2\u001b[39m:], gateway_client)\n\u001b[0;32m    325\u001b[0m \u001b[38;5;28;01mif\u001b[39;00m answer[\u001b[38;5;241m1\u001b[39m] \u001b[38;5;241m==\u001b[39m REFERENCE_TYPE:\n\u001b[1;32m--> 326\u001b[0m     \u001b[38;5;28;01mraise\u001b[39;00m Py4JJavaError(\n\u001b[0;32m    327\u001b[0m         \u001b[38;5;124m\"\u001b[39m\u001b[38;5;124mAn error occurred while calling \u001b[39m\u001b[38;5;132;01m{0}\u001b[39;00m\u001b[38;5;132;01m{1}\u001b[39;00m\u001b[38;5;132;01m{2}\u001b[39;00m\u001b[38;5;124m.\u001b[39m\u001b[38;5;130;01m\\n\u001b[39;00m\u001b[38;5;124m\"\u001b[39m\u001b[38;5;241m.\u001b[39m\n\u001b[0;32m    328\u001b[0m         \u001b[38;5;28mformat\u001b[39m(target_id, \u001b[38;5;124m\"\u001b[39m\u001b[38;5;124m.\u001b[39m\u001b[38;5;124m\"\u001b[39m, name), value)\n\u001b[0;32m    329\u001b[0m \u001b[38;5;28;01melse\u001b[39;00m:\n\u001b[0;32m    330\u001b[0m     \u001b[38;5;28;01mraise\u001b[39;00m Py4JError(\n\u001b[0;32m    331\u001b[0m         \u001b[38;5;124m\"\u001b[39m\u001b[38;5;124mAn error occurred while calling \u001b[39m\u001b[38;5;132;01m{0}\u001b[39;00m\u001b[38;5;132;01m{1}\u001b[39;00m\u001b[38;5;132;01m{2}\u001b[39;00m\u001b[38;5;124m. Trace:\u001b[39m\u001b[38;5;130;01m\\n\u001b[39;00m\u001b[38;5;132;01m{3}\u001b[39;00m\u001b[38;5;130;01m\\n\u001b[39;00m\u001b[38;5;124m\"\u001b[39m\u001b[38;5;241m.\u001b[39m\n\u001b[0;32m    332\u001b[0m         \u001b[38;5;28mformat\u001b[39m(target_id, \u001b[38;5;124m\"\u001b[39m\u001b[38;5;124m.\u001b[39m\u001b[38;5;124m\"\u001b[39m, name, value))\n",
      "\u001b[1;31mPy4JJavaError\u001b[0m: An error occurred while calling o529.csv.\n: org.apache.spark.SparkException: Job aborted.\r\n\tat org.apache.spark.sql.errors.QueryExecutionErrors$.jobAbortedError(QueryExecutionErrors.scala:651)\r\n\tat org.apache.spark.sql.execution.datasources.FileFormatWriter$.write(FileFormatWriter.scala:288)\r\n\tat org.apache.spark.sql.execution.datasources.InsertIntoHadoopFsRelationCommand.run(InsertIntoHadoopFsRelationCommand.scala:186)\r\n\tat org.apache.spark.sql.execution.command.DataWritingCommandExec.sideEffectResult$lzycompute(commands.scala:113)\r\n\tat org.apache.spark.sql.execution.command.DataWritingCommandExec.sideEffectResult(commands.scala:111)\r\n\tat org.apache.spark.sql.execution.command.DataWritingCommandExec.executeCollect(commands.scala:125)\r\n\tat org.apache.spark.sql.execution.QueryExecution$$anonfun$eagerlyExecuteCommands$1.$anonfun$applyOrElse$1(QueryExecution.scala:98)\r\n\tat org.apache.spark.sql.execution.SQLExecution$.$anonfun$withNewExecutionId$6(SQLExecution.scala:109)\r\n\tat org.apache.spark.sql.execution.SQLExecution$.withSQLConfPropagated(SQLExecution.scala:169)\r\n\tat org.apache.spark.sql.execution.SQLExecution$.$anonfun$withNewExecutionId$1(SQLExecution.scala:95)\r\n\tat org.apache.spark.sql.SparkSession.withActive(SparkSession.scala:779)\r\n\tat org.apache.spark.sql.execution.SQLExecution$.withNewExecutionId(SQLExecution.scala:64)\r\n\tat org.apache.spark.sql.execution.QueryExecution$$anonfun$eagerlyExecuteCommands$1.applyOrElse(QueryExecution.scala:98)\r\n\tat org.apache.spark.sql.execution.QueryExecution$$anonfun$eagerlyExecuteCommands$1.applyOrElse(QueryExecution.scala:94)\r\n\tat org.apache.spark.sql.catalyst.trees.TreeNode.$anonfun$transformDownWithPruning$1(TreeNode.scala:584)\r\n\tat org.apache.spark.sql.catalyst.trees.CurrentOrigin$.withOrigin(TreeNode.scala:176)\r\n\tat org.apache.spark.sql.catalyst.trees.TreeNode.transformDownWithPruning(TreeNode.scala:584)\r\n\tat org.apache.spark.sql.catalyst.plans.logical.LogicalPlan.org$apache$spark$sql$catalyst$plans$logical$AnalysisHelper$$super$transformDownWithPruning(LogicalPlan.scala:30)\r\n\tat org.apache.spark.sql.catalyst.plans.logical.AnalysisHelper.transformDownWithPruning(AnalysisHelper.scala:267)\r\n\tat org.apache.spark.sql.catalyst.plans.logical.AnalysisHelper.transformDownWithPruning$(AnalysisHelper.scala:263)\r\n\tat org.apache.spark.sql.catalyst.plans.logical.LogicalPlan.transformDownWithPruning(LogicalPlan.scala:30)\r\n\tat org.apache.spark.sql.catalyst.plans.logical.LogicalPlan.transformDownWithPruning(LogicalPlan.scala:30)\r\n\tat org.apache.spark.sql.catalyst.trees.TreeNode.transformDown(TreeNode.scala:560)\r\n\tat org.apache.spark.sql.execution.QueryExecution.eagerlyExecuteCommands(QueryExecution.scala:94)\r\n\tat org.apache.spark.sql.execution.QueryExecution.commandExecuted$lzycompute(QueryExecution.scala:81)\r\n\tat org.apache.spark.sql.execution.QueryExecution.commandExecuted(QueryExecution.scala:79)\r\n\tat org.apache.spark.sql.execution.QueryExecution.assertCommandExecuted(QueryExecution.scala:116)\r\n\tat org.apache.spark.sql.DataFrameWriter.runCommand(DataFrameWriter.scala:860)\r\n\tat org.apache.spark.sql.DataFrameWriter.saveToV1Source(DataFrameWriter.scala:390)\r\n\tat org.apache.spark.sql.DataFrameWriter.saveInternal(DataFrameWriter.scala:363)\r\n\tat org.apache.spark.sql.DataFrameWriter.save(DataFrameWriter.scala:239)\r\n\tat org.apache.spark.sql.DataFrameWriter.csv(DataFrameWriter.scala:851)\r\n\tat sun.reflect.NativeMethodAccessorImpl.invoke0(Native Method)\r\n\tat sun.reflect.NativeMethodAccessorImpl.invoke(Unknown Source)\r\n\tat sun.reflect.DelegatingMethodAccessorImpl.invoke(Unknown Source)\r\n\tat java.lang.reflect.Method.invoke(Unknown Source)\r\n\tat py4j.reflection.MethodInvoker.invoke(MethodInvoker.java:244)\r\n\tat py4j.reflection.ReflectionEngine.invoke(ReflectionEngine.java:357)\r\n\tat py4j.Gateway.invoke(Gateway.java:282)\r\n\tat py4j.commands.AbstractCommand.invokeMethod(AbstractCommand.java:132)\r\n\tat py4j.commands.CallCommand.execute(CallCommand.java:79)\r\n\tat py4j.ClientServerConnection.waitForCommands(ClientServerConnection.java:182)\r\n\tat py4j.ClientServerConnection.run(ClientServerConnection.java:106)\r\n\tat java.lang.Thread.run(Unknown Source)\r\nCaused by: java.lang.UnsatisfiedLinkError: org.apache.hadoop.io.nativeio.NativeIO$Windows.access0(Ljava/lang/String;I)Z\r\n\tat org.apache.hadoop.io.nativeio.NativeIO$Windows.access0(Native Method)\r\n\tat org.apache.hadoop.io.nativeio.NativeIO$Windows.access(NativeIO.java:793)\r\n\tat org.apache.hadoop.fs.FileUtil.canRead(FileUtil.java:1218)\r\n\tat org.apache.hadoop.fs.FileUtil.list(FileUtil.java:1423)\r\n\tat org.apache.hadoop.fs.RawLocalFileSystem.listStatus(RawLocalFileSystem.java:601)\r\n\tat org.apache.hadoop.fs.FileSystem.listStatus(FileSystem.java:1972)\r\n\tat org.apache.hadoop.fs.FileSystem.listStatus(FileSystem.java:2014)\r\n\tat org.apache.hadoop.fs.ChecksumFileSystem.listStatus(ChecksumFileSystem.java:761)\r\n\tat org.apache.hadoop.fs.FileSystem.listStatus(FileSystem.java:1972)\r\n\tat org.apache.hadoop.fs.FileSystem.listStatus(FileSystem.java:2014)\r\n\tat org.apache.hadoop.mapreduce.lib.output.FileOutputCommitter.getAllCommittedTaskPaths(FileOutputCommitter.java:334)\r\n\tat org.apache.hadoop.mapreduce.lib.output.FileOutputCommitter.commitJobInternal(FileOutputCommitter.java:404)\r\n\tat org.apache.hadoop.mapreduce.lib.output.FileOutputCommitter.commitJob(FileOutputCommitter.java:377)\r\n\tat org.apache.spark.internal.io.HadoopMapReduceCommitProtocol.commitJob(HadoopMapReduceCommitProtocol.scala:192)\r\n\tat org.apache.spark.sql.execution.datasources.FileFormatWriter$.$anonfun$write$26(FileFormatWriter.scala:277)\r\n\tat scala.runtime.java8.JFunction0$mcV$sp.apply(JFunction0$mcV$sp.java:23)\r\n\tat org.apache.spark.util.Utils$.timeTakenMs(Utils.scala:642)\r\n\tat org.apache.spark.sql.execution.datasources.FileFormatWriter$.write(FileFormatWriter.scala:277)\r\n\t... 42 more\r\n"
     ]
    }
   ],
   "source": [
    "df_age_greater_45.write.csv('OfficeDataProject/out')"
   ]
  },
  {
   "cell_type": "code",
   "execution_count": null,
   "id": "2cf76552",
   "metadata": {},
   "outputs": [],
   "source": []
  }
 ],
 "metadata": {
  "kernelspec": {
   "display_name": "Python 3",
   "language": "python",
   "name": "python3"
  },
  "language_info": {
   "codemirror_mode": {
    "name": "ipython",
    "version": 3
   },
   "file_extension": ".py",
   "mimetype": "text/x-python",
   "name": "python",
   "nbconvert_exporter": "python",
   "pygments_lexer": "ipython3",
   "version": "3.8.8"
  }
 },
 "nbformat": 4,
 "nbformat_minor": 5
}
