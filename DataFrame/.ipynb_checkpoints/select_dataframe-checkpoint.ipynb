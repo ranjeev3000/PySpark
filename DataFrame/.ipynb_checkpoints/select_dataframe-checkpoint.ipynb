{
 "cells": [
  {
   "cell_type": "code",
   "execution_count": 1,
   "id": "80ccb826",
   "metadata": {},
   "outputs": [
    {
     "name": "stderr",
     "output_type": "stream",
     "text": [
      "C:\\Users\\HP\\anaconda3\\lib\\site-packages\\numpy\\_distributor_init.py:30: UserWarning: loaded more than 1 DLL from .libs:\n",
      "C:\\Users\\HP\\anaconda3\\lib\\site-packages\\numpy\\.libs\\libopenblas.FB5AE2TYXYH2IJRDKGDGQ3XBKLKTF43H.gfortran-win_amd64.dll\n",
      "C:\\Users\\HP\\anaconda3\\lib\\site-packages\\numpy\\.libs\\libopenblas.WCDJNK7YVMPZQ2ME2ZZHJJRJ3JIKNDB7.gfortran-win_amd64.dll\n",
      "  warnings.warn(\"loaded more than 1 DLL from .libs:\"\n"
     ]
    },
    {
     "data": {
      "text/html": [
       "\n",
       "            <div>\n",
       "                <p><b>SparkSession - in-memory</b></p>\n",
       "                \n",
       "        <div>\n",
       "            <p><b>SparkContext</b></p>\n",
       "\n",
       "            <p><a href=\"http://Ranjeev.mshome.net:4041\">Spark UI</a></p>\n",
       "\n",
       "            <dl>\n",
       "              <dt>Version</dt>\n",
       "                <dd><code>v3.3.2</code></dd>\n",
       "              <dt>Master</dt>\n",
       "                <dd><code>local[*]</code></dd>\n",
       "              <dt>AppName</dt>\n",
       "                <dd><code>spark_DF</code></dd>\n",
       "            </dl>\n",
       "        </div>\n",
       "        \n",
       "            </div>\n",
       "        "
      ],
      "text/plain": [
       "<pyspark.sql.session.SparkSession at 0x1c5f5031eb0>"
      ]
     },
     "execution_count": 1,
     "metadata": {},
     "output_type": "execute_result"
    }
   ],
   "source": [
    "from pyspark.sql import SparkSession\n",
    "spark = SparkSession.builder.appName(\"spark_DF\").getOrCreate()\n",
    "spark"
   ]
  },
  {
   "cell_type": "code",
   "execution_count": 2,
   "id": "619b593b",
   "metadata": {},
   "outputs": [
    {
     "name": "stdout",
     "output_type": "stream",
     "text": [
      "+---+------+----------------+------+------+-----+--------------------+\n",
      "|age|gender|            name|course|  roll|marks|               email|\n",
      "+---+------+----------------+------+------+-----+--------------------+\n",
      "| 28|Female| Hubert Oliveras|    DB|  2984|   59|Annika Hoffman_Na...|\n",
      "| 29|Female|Toshiko Hillyard| Cloud| 12899|   62|Margene Moores_Ma...|\n",
      "| 28|  Male|  Celeste Lollis|    PF| 21267|   45|Jeannetta Golden_...|\n",
      "| 29|Female|    Elenore Choy|    DB| 32877|   29|Billi Clore_Mitzi...|\n",
      "| 28|  Male|  Sheryll Towler|   DSA| 41487|   41|Claude Panos_Judi...|\n",
      "| 28|  Male|  Margene Moores|   MVC| 52771|   32|Toshiko Hillyard_...|\n",
      "| 28|  Male|     Neda Briski|   OOP| 61973|   69|Alberta Freund_El...|\n",
      "| 28|Female|    Claude Panos| Cloud| 72409|   85|Sheryll Towler_Al...|\n",
      "| 28|  Male|  Celeste Lollis|   MVC| 81492|   64|Nicole Harwood_Cl...|\n",
      "| 29|  Male|  Cordie Harnois|   OOP| 92882|   51|Judie Chipps_Clem...|\n",
      "| 29|Female|       Kena Wild|   DSA|102285|   35|Dustin Feagins_Ma...|\n",
      "| 29|  Male| Ernest Rossbach|    DB|111449|   53|Maybell Duguay_Ab...|\n",
      "| 28|Female|  Latia Vanhoose|    DB|122502|   27|Latia Vanhoose_Mi...|\n",
      "| 29|Female|  Latia Vanhoose|   MVC|132110|   55|Eda Neathery_Nico...|\n",
      "| 29|  Male|     Neda Briski|    PF|141770|   42|Margene Moores_Mi...|\n",
      "| 29|Female|  Latia Vanhoose|    DB|152159|   27|Claude Panos_Sant...|\n",
      "| 29|  Male|  Loris Crossett|   MVC|161771|   36|Mitzi Seldon_Jenn...|\n",
      "| 29|  Male|  Annika Hoffman|   OOP|171660|   22|Taryn Brownlee_Mi...|\n",
      "| 29|  Male|   Santa Kerfien|    PF|182129|   56|Judie Chipps_Tary...|\n",
      "| 28|Female|Mickey Cortright|    DB|192537|   62|Ernest Rossbach_M...|\n",
      "+---+------+----------------+------+------+-----+--------------------+\n",
      "only showing top 20 rows\n",
      "\n"
     ]
    }
   ],
   "source": [
    "df = spark.read.options(header = True, inferSchema=True).csv('StudentData.csv')\n",
    "df.show()"
   ]
  },
  {
   "cell_type": "code",
   "execution_count": 8,
   "id": "8a533b26",
   "metadata": {},
   "outputs": [
    {
     "name": "stdout",
     "output_type": "stream",
     "text": [
      "+----------------+------+\n",
      "|            name|gender|\n",
      "+----------------+------+\n",
      "| Hubert Oliveras|Female|\n",
      "|Toshiko Hillyard|Female|\n",
      "|  Celeste Lollis|  Male|\n",
      "|    Elenore Choy|Female|\n",
      "|  Sheryll Towler|  Male|\n",
      "|  Margene Moores|  Male|\n",
      "|     Neda Briski|  Male|\n",
      "|    Claude Panos|Female|\n",
      "|  Celeste Lollis|  Male|\n",
      "|  Cordie Harnois|  Male|\n",
      "|       Kena Wild|Female|\n",
      "| Ernest Rossbach|  Male|\n",
      "|  Latia Vanhoose|Female|\n",
      "|  Latia Vanhoose|Female|\n",
      "|     Neda Briski|  Male|\n",
      "|  Latia Vanhoose|Female|\n",
      "|  Loris Crossett|  Male|\n",
      "|  Annika Hoffman|  Male|\n",
      "|   Santa Kerfien|  Male|\n",
      "|Mickey Cortright|Female|\n",
      "+----------------+------+\n",
      "only showing top 20 rows\n",
      "\n"
     ]
    }
   ],
   "source": [
    "df.select('name','gender').show()"
   ]
  },
  {
   "cell_type": "code",
   "execution_count": 9,
   "id": "1875d4a6",
   "metadata": {},
   "outputs": [
    {
     "name": "stdout",
     "output_type": "stream",
     "text": [
      "+----------------+--------------------+\n",
      "|            name|               email|\n",
      "+----------------+--------------------+\n",
      "| Hubert Oliveras|Annika Hoffman_Na...|\n",
      "|Toshiko Hillyard|Margene Moores_Ma...|\n",
      "|  Celeste Lollis|Jeannetta Golden_...|\n",
      "|    Elenore Choy|Billi Clore_Mitzi...|\n",
      "|  Sheryll Towler|Claude Panos_Judi...|\n",
      "|  Margene Moores|Toshiko Hillyard_...|\n",
      "|     Neda Briski|Alberta Freund_El...|\n",
      "|    Claude Panos|Sheryll Towler_Al...|\n",
      "|  Celeste Lollis|Nicole Harwood_Cl...|\n",
      "|  Cordie Harnois|Judie Chipps_Clem...|\n",
      "|       Kena Wild|Dustin Feagins_Ma...|\n",
      "| Ernest Rossbach|Maybell Duguay_Ab...|\n",
      "|  Latia Vanhoose|Latia Vanhoose_Mi...|\n",
      "|  Latia Vanhoose|Eda Neathery_Nico...|\n",
      "|     Neda Briski|Margene Moores_Mi...|\n",
      "|  Latia Vanhoose|Claude Panos_Sant...|\n",
      "|  Loris Crossett|Mitzi Seldon_Jenn...|\n",
      "|  Annika Hoffman|Taryn Brownlee_Mi...|\n",
      "|   Santa Kerfien|Judie Chipps_Tary...|\n",
      "|Mickey Cortright|Ernest Rossbach_M...|\n",
      "+----------------+--------------------+\n",
      "only showing top 20 rows\n",
      "\n"
     ]
    }
   ],
   "source": [
    "df.select(df.name, df.email).show()"
   ]
  },
  {
   "cell_type": "code",
   "execution_count": 10,
   "id": "fe5bbb30",
   "metadata": {},
   "outputs": [
    {
     "name": "stdout",
     "output_type": "stream",
     "text": [
      "+------+----------------+\n",
      "|  roll|            name|\n",
      "+------+----------------+\n",
      "|  2984| Hubert Oliveras|\n",
      "| 12899|Toshiko Hillyard|\n",
      "| 21267|  Celeste Lollis|\n",
      "| 32877|    Elenore Choy|\n",
      "| 41487|  Sheryll Towler|\n",
      "| 52771|  Margene Moores|\n",
      "| 61973|     Neda Briski|\n",
      "| 72409|    Claude Panos|\n",
      "| 81492|  Celeste Lollis|\n",
      "| 92882|  Cordie Harnois|\n",
      "|102285|       Kena Wild|\n",
      "|111449| Ernest Rossbach|\n",
      "|122502|  Latia Vanhoose|\n",
      "|132110|  Latia Vanhoose|\n",
      "|141770|     Neda Briski|\n",
      "|152159|  Latia Vanhoose|\n",
      "|161771|  Loris Crossett|\n",
      "|171660|  Annika Hoffman|\n",
      "|182129|   Santa Kerfien|\n",
      "|192537|Mickey Cortright|\n",
      "+------+----------------+\n",
      "only showing top 20 rows\n",
      "\n"
     ]
    }
   ],
   "source": [
    "from pyspark.sql.functions import col\n",
    "df.select(col(\"roll\"), col(\"name\")).show()"
   ]
  },
  {
   "cell_type": "code",
   "execution_count": 11,
   "id": "9cca3177",
   "metadata": {},
   "outputs": [
    {
     "name": "stdout",
     "output_type": "stream",
     "text": [
      "+---+------+----------------+------+------+-----+--------------------+\n",
      "|age|gender|            name|course|  roll|marks|               email|\n",
      "+---+------+----------------+------+------+-----+--------------------+\n",
      "| 28|Female| Hubert Oliveras|    DB|  2984|   59|Annika Hoffman_Na...|\n",
      "| 29|Female|Toshiko Hillyard| Cloud| 12899|   62|Margene Moores_Ma...|\n",
      "| 28|  Male|  Celeste Lollis|    PF| 21267|   45|Jeannetta Golden_...|\n",
      "| 29|Female|    Elenore Choy|    DB| 32877|   29|Billi Clore_Mitzi...|\n",
      "| 28|  Male|  Sheryll Towler|   DSA| 41487|   41|Claude Panos_Judi...|\n",
      "| 28|  Male|  Margene Moores|   MVC| 52771|   32|Toshiko Hillyard_...|\n",
      "| 28|  Male|     Neda Briski|   OOP| 61973|   69|Alberta Freund_El...|\n",
      "| 28|Female|    Claude Panos| Cloud| 72409|   85|Sheryll Towler_Al...|\n",
      "| 28|  Male|  Celeste Lollis|   MVC| 81492|   64|Nicole Harwood_Cl...|\n",
      "| 29|  Male|  Cordie Harnois|   OOP| 92882|   51|Judie Chipps_Clem...|\n",
      "| 29|Female|       Kena Wild|   DSA|102285|   35|Dustin Feagins_Ma...|\n",
      "| 29|  Male| Ernest Rossbach|    DB|111449|   53|Maybell Duguay_Ab...|\n",
      "| 28|Female|  Latia Vanhoose|    DB|122502|   27|Latia Vanhoose_Mi...|\n",
      "| 29|Female|  Latia Vanhoose|   MVC|132110|   55|Eda Neathery_Nico...|\n",
      "| 29|  Male|     Neda Briski|    PF|141770|   42|Margene Moores_Mi...|\n",
      "| 29|Female|  Latia Vanhoose|    DB|152159|   27|Claude Panos_Sant...|\n",
      "| 29|  Male|  Loris Crossett|   MVC|161771|   36|Mitzi Seldon_Jenn...|\n",
      "| 29|  Male|  Annika Hoffman|   OOP|171660|   22|Taryn Brownlee_Mi...|\n",
      "| 29|  Male|   Santa Kerfien|    PF|182129|   56|Judie Chipps_Tary...|\n",
      "| 28|Female|Mickey Cortright|    DB|192537|   62|Ernest Rossbach_M...|\n",
      "+---+------+----------------+------+------+-----+--------------------+\n",
      "only showing top 20 rows\n",
      "\n"
     ]
    }
   ],
   "source": [
    "df.select(\"*\").show()"
   ]
  },
  {
   "cell_type": "code",
   "execution_count": 15,
   "id": "33808e5f",
   "metadata": {},
   "outputs": [
    {
     "data": {
      "text/plain": [
       "['age', 'gender', 'name', 'course', 'roll', 'marks', 'email']"
      ]
     },
     "execution_count": 15,
     "metadata": {},
     "output_type": "execute_result"
    }
   ],
   "source": [
    "df.columns"
   ]
  },
  {
   "cell_type": "code",
   "execution_count": 16,
   "id": "67e0ad89",
   "metadata": {},
   "outputs": [
    {
     "name": "stdout",
     "output_type": "stream",
     "text": [
      "+----------------+------+\n",
      "|            name|gender|\n",
      "+----------------+------+\n",
      "| Hubert Oliveras|Female|\n",
      "|Toshiko Hillyard|Female|\n",
      "|  Celeste Lollis|  Male|\n",
      "|    Elenore Choy|Female|\n",
      "|  Sheryll Towler|  Male|\n",
      "|  Margene Moores|  Male|\n",
      "|     Neda Briski|  Male|\n",
      "|    Claude Panos|Female|\n",
      "|  Celeste Lollis|  Male|\n",
      "|  Cordie Harnois|  Male|\n",
      "|       Kena Wild|Female|\n",
      "| Ernest Rossbach|  Male|\n",
      "|  Latia Vanhoose|Female|\n",
      "|  Latia Vanhoose|Female|\n",
      "|     Neda Briski|  Male|\n",
      "|  Latia Vanhoose|Female|\n",
      "|  Loris Crossett|  Male|\n",
      "|  Annika Hoffman|  Male|\n",
      "|   Santa Kerfien|  Male|\n",
      "|Mickey Cortright|Female|\n",
      "+----------------+------+\n",
      "only showing top 20 rows\n",
      "\n"
     ]
    }
   ],
   "source": [
    "df.select(df.columns[2], df.columns[1]).show()"
   ]
  },
  {
   "cell_type": "code",
   "execution_count": 23,
   "id": "fd0c547d",
   "metadata": {},
   "outputs": [
    {
     "name": "stdout",
     "output_type": "stream",
     "text": [
      "+---+------+----------------+\n",
      "|age|gender|            name|\n",
      "+---+------+----------------+\n",
      "| 28|Female| Hubert Oliveras|\n",
      "| 29|Female|Toshiko Hillyard|\n",
      "| 28|  Male|  Celeste Lollis|\n",
      "| 29|Female|    Elenore Choy|\n",
      "| 28|  Male|  Sheryll Towler|\n",
      "| 28|  Male|  Margene Moores|\n",
      "| 28|  Male|     Neda Briski|\n",
      "| 28|Female|    Claude Panos|\n",
      "| 28|  Male|  Celeste Lollis|\n",
      "| 29|  Male|  Cordie Harnois|\n",
      "| 29|Female|       Kena Wild|\n",
      "| 29|  Male| Ernest Rossbach|\n",
      "| 28|Female|  Latia Vanhoose|\n",
      "| 29|Female|  Latia Vanhoose|\n",
      "| 29|  Male|     Neda Briski|\n",
      "| 29|Female|  Latia Vanhoose|\n",
      "| 29|  Male|  Loris Crossett|\n",
      "| 29|  Male|  Annika Hoffman|\n",
      "| 29|  Male|   Santa Kerfien|\n",
      "| 28|Female|Mickey Cortright|\n",
      "+---+------+----------------+\n",
      "only showing top 20 rows\n",
      "\n"
     ]
    }
   ],
   "source": []
  }
 ],
 "metadata": {
  "kernelspec": {
   "display_name": "Python 3",
   "language": "python",
   "name": "python3"
  },
  "language_info": {
   "codemirror_mode": {
    "name": "ipython",
    "version": 3
   },
   "file_extension": ".py",
   "mimetype": "text/x-python",
   "name": "python",
   "nbconvert_exporter": "python",
   "pygments_lexer": "ipython3",
   "version": "3.8.8"
  }
 },
 "nbformat": 4,
 "nbformat_minor": 5
}
