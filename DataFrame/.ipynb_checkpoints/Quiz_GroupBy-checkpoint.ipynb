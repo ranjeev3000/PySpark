{
 "cells": [
  {
   "cell_type": "code",
   "execution_count": null,
   "id": "758a568b",
   "metadata": {},
   "outputs": [],
   "source": [
    "\"\"\"\n",
    "Quiz:\n",
    "-> Read the StudentData csv file\n",
    "-> Display the total number of students enrolled in each course\n",
    "-> Display the total number of male and female students enrolled in each course\n",
    "-> Display the total marks achieved by each gender in each course\n",
    "-> Display the minimum, maximum, and average marks achieved in each course by each group\n",
    "\n",
    "\"\"\""
   ]
  },
  {
   "cell_type": "code",
   "execution_count": 1,
   "id": "07df24c0",
   "metadata": {},
   "outputs": [
    {
     "name": "stderr",
     "output_type": "stream",
     "text": [
      "C:\\Users\\HP\\anaconda3\\lib\\site-packages\\numpy\\_distributor_init.py:30: UserWarning: loaded more than 1 DLL from .libs:\n",
      "C:\\Users\\HP\\anaconda3\\lib\\site-packages\\numpy\\.libs\\libopenblas.FB5AE2TYXYH2IJRDKGDGQ3XBKLKTF43H.gfortran-win_amd64.dll\n",
      "C:\\Users\\HP\\anaconda3\\lib\\site-packages\\numpy\\.libs\\libopenblas.WCDJNK7YVMPZQ2ME2ZZHJJRJ3JIKNDB7.gfortran-win_amd64.dll\n",
      "  warnings.warn(\"loaded more than 1 DLL from .libs:\"\n"
     ]
    }
   ],
   "source": [
    "from pyspark.sql import SparkSession\n",
    "from pyspark.sql.functions import col, lit, count, avg, sum, min, max, mean"
   ]
  },
  {
   "cell_type": "code",
   "execution_count": 3,
   "id": "98270e84",
   "metadata": {},
   "outputs": [
    {
     "data": {
      "text/html": [
       "\n",
       "            <div>\n",
       "                <p><b>SparkSession - in-memory</b></p>\n",
       "                \n",
       "        <div>\n",
       "            <p><b>SparkContext</b></p>\n",
       "\n",
       "            <p><a href=\"http://Ranjeev.mshome.net:4047\">Spark UI</a></p>\n",
       "\n",
       "            <dl>\n",
       "              <dt>Version</dt>\n",
       "                <dd><code>v3.3.2</code></dd>\n",
       "              <dt>Master</dt>\n",
       "                <dd><code>local[*]</code></dd>\n",
       "              <dt>AppName</dt>\n",
       "                <dd><code>Spark_DataFrame</code></dd>\n",
       "            </dl>\n",
       "        </div>\n",
       "        \n",
       "            </div>\n",
       "        "
      ],
      "text/plain": [
       "<pyspark.sql.session.SparkSession at 0x20bdb54eeb0>"
      ]
     },
     "execution_count": 3,
     "metadata": {},
     "output_type": "execute_result"
    }
   ],
   "source": [
    "spark = SparkSession.builder.appName(\"Spark_DataFrame\").getOrCreate()\n",
    "spark"
   ]
  },
  {
   "cell_type": "code",
   "execution_count": 5,
   "id": "f488ca2d",
   "metadata": {},
   "outputs": [
    {
     "name": "stdout",
     "output_type": "stream",
     "text": [
      "+---+------+----------------+------+------+-----+--------------------+\n",
      "|age|gender|            name|course|  roll|marks|               email|\n",
      "+---+------+----------------+------+------+-----+--------------------+\n",
      "| 28|Female| Hubert Oliveras|    DB|  2984|   59|Annika Hoffman_Na...|\n",
      "| 29|Female|Toshiko Hillyard| Cloud| 12899|   62|Margene Moores_Ma...|\n",
      "| 28|  Male|  Celeste Lollis|    PF| 21267|   45|Jeannetta Golden_...|\n",
      "| 29|Female|    Elenore Choy|    DB| 32877|   29|Billi Clore_Mitzi...|\n",
      "| 28|  Male|  Sheryll Towler|   DSA| 41487|   41|Claude Panos_Judi...|\n",
      "| 28|  Male|  Margene Moores|   MVC| 52771|   32|Toshiko Hillyard_...|\n",
      "| 28|  Male|     Neda Briski|   OOP| 61973|   69|Alberta Freund_El...|\n",
      "| 28|Female|    Claude Panos| Cloud| 72409|   85|Sheryll Towler_Al...|\n",
      "| 28|  Male|  Celeste Lollis|   MVC| 81492|   64|Nicole Harwood_Cl...|\n",
      "| 29|  Male|  Cordie Harnois|   OOP| 92882|   51|Judie Chipps_Clem...|\n",
      "| 29|Female|       Kena Wild|   DSA|102285|   35|Dustin Feagins_Ma...|\n",
      "| 29|  Male| Ernest Rossbach|    DB|111449|   53|Maybell Duguay_Ab...|\n",
      "| 28|Female|  Latia Vanhoose|    DB|122502|   27|Latia Vanhoose_Mi...|\n",
      "| 29|Female|  Latia Vanhoose|   MVC|132110|   55|Eda Neathery_Nico...|\n",
      "| 29|  Male|     Neda Briski|    PF|141770|   42|Margene Moores_Mi...|\n",
      "| 29|Female|  Latia Vanhoose|    DB|152159|   27|Claude Panos_Sant...|\n",
      "| 29|  Male|  Loris Crossett|   MVC|161771|   36|Mitzi Seldon_Jenn...|\n",
      "| 29|  Male|  Annika Hoffman|   OOP|171660|   22|Taryn Brownlee_Mi...|\n",
      "| 29|  Male|   Santa Kerfien|    PF|182129|   56|Judie Chipps_Tary...|\n",
      "| 28|Female|Mickey Cortright|    DB|192537|   62|Ernest Rossbach_M...|\n",
      "+---+------+----------------+------+------+-----+--------------------+\n",
      "only showing top 20 rows\n",
      "\n"
     ]
    }
   ],
   "source": [
    "df = spark.read.options(header = True, inferSchema = True).csv(\"StudentData.csv\")\n",
    "df.show()"
   ]
  },
  {
   "cell_type": "code",
   "execution_count": 7,
   "id": "19c79602",
   "metadata": {},
   "outputs": [
    {
     "name": "stdout",
     "output_type": "stream",
     "text": [
      "+------+-----+\n",
      "|course|count|\n",
      "+------+-----+\n",
      "|    PF|  166|\n",
      "|    DB|  157|\n",
      "|   MVC|  157|\n",
      "|   DSA|  176|\n",
      "| Cloud|  192|\n",
      "|   OOP|  152|\n",
      "+------+-----+\n",
      "\n"
     ]
    }
   ],
   "source": [
    "# -> Display the total number of students enrolled in each course\n",
    "df.groupBy(\"course\").count().show()"
   ]
  },
  {
   "cell_type": "code",
   "execution_count": 12,
   "id": "aca986dd",
   "metadata": {},
   "outputs": [
    {
     "name": "stdout",
     "output_type": "stream",
     "text": [
      "+------+--------+\n",
      "|course|count(1)|\n",
      "+------+--------+\n",
      "|    PF|     166|\n",
      "|    DB|     157|\n",
      "|   MVC|     157|\n",
      "|   DSA|     176|\n",
      "| Cloud|     192|\n",
      "|   OOP|     152|\n",
      "+------+--------+\n",
      "\n"
     ]
    }
   ],
   "source": [
    "df.groupBy(\"course\").agg(count('*')).show()"
   ]
  },
  {
   "cell_type": "code",
   "execution_count": 17,
   "id": "fdf23038",
   "metadata": {},
   "outputs": [
    {
     "name": "stdout",
     "output_type": "stream",
     "text": [
      "+------+------+-----------------+\n",
      "|course|gender|total_enrollments|\n",
      "+------+------+-----------------+\n",
      "| Cloud|  Male|               86|\n",
      "| Cloud|Female|              106|\n",
      "|    DB|  Male|               82|\n",
      "|    DB|Female|               75|\n",
      "|   DSA|  Male|               78|\n",
      "|   DSA|Female|               98|\n",
      "|   MVC|  Male|               86|\n",
      "|   MVC|Female|               71|\n",
      "|   OOP|  Male|               70|\n",
      "|   OOP|Female|               82|\n",
      "|    PF|  Male|               97|\n",
      "|    PF|Female|               69|\n",
      "+------+------+-----------------+\n",
      "\n"
     ]
    }
   ],
   "source": [
    "# -> Display the total number of male and female students enrolled in each course\n",
    "df.groupBy(\"course\",\"gender\").agg(count('*').alias(\"total_enrollments\")).sort(df.course, df.gender.desc()).show()"
   ]
  },
  {
   "cell_type": "code",
   "execution_count": 24,
   "id": "32537d9e",
   "metadata": {},
   "outputs": [
    {
     "name": "stdout",
     "output_type": "stream",
     "text": [
      "+------+------+-----------+\n",
      "|course|gender|total_marks|\n",
      "+------+------+-----------+\n",
      "| Cloud|  Male|       5127|\n",
      "| Cloud|Female|       6316|\n",
      "|    DB|  Male|       5073|\n",
      "|    DB|Female|       4197|\n",
      "|   DSA|  Male|       4826|\n",
      "|   DSA|Female|       6124|\n",
      "|   MVC|  Male|       5241|\n",
      "|   MVC|Female|       4344|\n",
      "|   OOP|  Male|       4234|\n",
      "|   OOP|Female|       4682|\n",
      "|    PF|  Male|       5960|\n",
      "|    PF|Female|       3973|\n",
      "+------+------+-----------+\n",
      "\n"
     ]
    }
   ],
   "source": [
    "# -> Display the total marks achieved by each gender in each course\n",
    "df.groupBy(\"course\",\"gender\").agg(sum(\"marks\").alias(\"total_marks\")).sort(df.course, df.gender.desc()).show()"
   ]
  },
  {
   "cell_type": "code",
   "execution_count": 26,
   "id": "b5a2f1e8",
   "metadata": {},
   "outputs": [
    {
     "name": "stdout",
     "output_type": "stream",
     "text": [
      "+------+---+---------+---------+------------------+\n",
      "|course|age|min_marks|max_marks|         avg_marks|\n",
      "+------+---+---------+---------+------------------+\n",
      "|   MVC| 28|       23|       99| 60.44444444444444|\n",
      "|    PF| 28|       20|       98| 63.75949367088607|\n",
      "|   DSA| 28|       20|       99|  64.6867469879518|\n",
      "| Cloud| 28|       20|       99|             58.08|\n",
      "|    DB| 28|       21|       98| 58.76829268292683|\n",
      "|   OOP| 28|       23|       99| 57.64102564102564|\n",
      "|   MVC| 29|       22|       99| 61.56470588235294|\n",
      "|    PF| 29|       20|       99|56.275862068965516|\n",
      "|    DB| 29|       20|       98|59.346666666666664|\n",
      "|   OOP| 29|       20|       99|59.729729729729726|\n",
      "| Cloud| 29|       21|       98|             61.25|\n",
      "|   DSA| 29|       20|       99| 60.01075268817204|\n",
      "+------+---+---------+---------+------------------+\n",
      "\n"
     ]
    }
   ],
   "source": [
    "# -> Display the minimum, maximum, and average marks achieved in each course by each group\n",
    "df.groupBy(\"course\",\"age\").agg(min(\"marks\").alias(\"min_marks\"),max(\"marks\").alias(\"max_marks\"),avg(\"marks\").alias(\"avg_marks\")).sort(df.age).show()"
   ]
  },
  {
   "cell_type": "code",
   "execution_count": 27,
   "id": "a323729b",
   "metadata": {},
   "outputs": [],
   "source": [
    "# Quiz 2:\n",
    "# Use the file WordData.txt\n",
    "# Read the file in the DF\n",
    "# Calculate and show the count of each word present in the file."
   ]
  },
  {
   "cell_type": "code",
   "execution_count": 30,
   "id": "992ebccd",
   "metadata": {},
   "outputs": [
    {
     "name": "stdout",
     "output_type": "stream",
     "text": [
      "+------+\n",
      "| value|\n",
      "+------+\n",
      "| Apple|\n",
      "|   Mic|\n",
      "|   Mic|\n",
      "| Apple|\n",
      "|Laptop|\n",
      "| Apple|\n",
      "|   Mic|\n",
      "|   Mic|\n",
      "| Apple|\n",
      "|Laptop|\n",
      "| Chair|\n",
      "| Chair|\n",
      "| Chair|\n",
      "|   Bag|\n",
      "|Mobile|\n",
      "|  Book|\n",
      "| Chair|\n",
      "| Chair|\n",
      "| Chair|\n",
      "|   Bag|\n",
      "+------+\n",
      "only showing top 20 rows\n",
      "\n"
     ]
    }
   ],
   "source": [
    "df_word_count = spark.read.text(\"WordData.txt\")\n",
    "df_word_count.show()"
   ]
  },
  {
   "cell_type": "code",
   "execution_count": 38,
   "id": "f7c20f95",
   "metadata": {},
   "outputs": [
    {
     "name": "stdout",
     "output_type": "stream",
     "text": [
      "+------+------------------+\n",
      "| value|count_of_each_item|\n",
      "+------+------------------+\n",
      "|  Book|                 5|\n",
      "|Mobile|                 5|\n",
      "|Laptop|                 5|\n",
      "|   Bag|                 5|\n",
      "|   Mic|                10|\n",
      "| Apple|                10|\n",
      "| Chair|                15|\n",
      "+------+------------------+\n",
      "\n"
     ]
    }
   ],
   "source": [
    "# Calculate the count of each word\n",
    "df_word_count.groupBy(df_word_count.value).agg(count('*').alias(\"count_of_each_item\")).sort(col(\"count_of_each_item\")).show()"
   ]
  },
  {
   "cell_type": "code",
   "execution_count": null,
   "id": "a113f4c5",
   "metadata": {},
   "outputs": [],
   "source": []
  }
 ],
 "metadata": {
  "kernelspec": {
   "display_name": "Python 3",
   "language": "python",
   "name": "python3"
  },
  "language_info": {
   "codemirror_mode": {
    "name": "ipython",
    "version": 3
   },
   "file_extension": ".py",
   "mimetype": "text/x-python",
   "name": "python",
   "nbconvert_exporter": "python",
   "pygments_lexer": "ipython3",
   "version": "3.8.8"
  }
 },
 "nbformat": 4,
 "nbformat_minor": 5
}
