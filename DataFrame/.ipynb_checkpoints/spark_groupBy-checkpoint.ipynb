{
 "cells": [
  {
   "cell_type": "code",
   "execution_count": 1,
   "id": "49796448",
   "metadata": {},
   "outputs": [
    {
     "name": "stderr",
     "output_type": "stream",
     "text": [
      "C:\\Users\\HP\\anaconda3\\lib\\site-packages\\numpy\\_distributor_init.py:30: UserWarning: loaded more than 1 DLL from .libs:\n",
      "C:\\Users\\HP\\anaconda3\\lib\\site-packages\\numpy\\.libs\\libopenblas.FB5AE2TYXYH2IJRDKGDGQ3XBKLKTF43H.gfortran-win_amd64.dll\n",
      "C:\\Users\\HP\\anaconda3\\lib\\site-packages\\numpy\\.libs\\libopenblas.WCDJNK7YVMPZQ2ME2ZZHJJRJ3JIKNDB7.gfortran-win_amd64.dll\n",
      "  warnings.warn(\"loaded more than 1 DLL from .libs:\"\n"
     ]
    },
    {
     "data": {
      "text/html": [
       "\n",
       "            <div>\n",
       "                <p><b>SparkSession - in-memory</b></p>\n",
       "                \n",
       "        <div>\n",
       "            <p><b>SparkContext</b></p>\n",
       "\n",
       "            <p><a href=\"http://Ranjeev.mshome.net:4042\">Spark UI</a></p>\n",
       "\n",
       "            <dl>\n",
       "              <dt>Version</dt>\n",
       "                <dd><code>v3.3.2</code></dd>\n",
       "              <dt>Master</dt>\n",
       "                <dd><code>local[*]</code></dd>\n",
       "              <dt>AppName</dt>\n",
       "                <dd><code>Spark_DataFrame</code></dd>\n",
       "            </dl>\n",
       "        </div>\n",
       "        \n",
       "            </div>\n",
       "        "
      ],
      "text/plain": [
       "<pyspark.sql.session.SparkSession at 0x260c4702eb0>"
      ]
     },
     "execution_count": 1,
     "metadata": {},
     "output_type": "execute_result"
    }
   ],
   "source": [
    "from pyspark.sql import SparkSession\n",
    "spark = SparkSession.builder.appName('Spark_DataFrame').getOrCreate()\n",
    "spark"
   ]
  },
  {
   "cell_type": "code",
   "execution_count": 2,
   "id": "a8ccceaa",
   "metadata": {},
   "outputs": [],
   "source": [
    "from pyspark.sql.functions import col, lit"
   ]
  },
  {
   "cell_type": "code",
   "execution_count": 3,
   "id": "e3cadf36",
   "metadata": {},
   "outputs": [
    {
     "name": "stdout",
     "output_type": "stream",
     "text": [
      "+---+------+----------------+------+------+-----+--------------------+\n",
      "|age|gender|            name|course|  roll|marks|               email|\n",
      "+---+------+----------------+------+------+-----+--------------------+\n",
      "| 28|Female| Hubert Oliveras|    DB|  2984|   59|Annika Hoffman_Na...|\n",
      "| 29|Female|Toshiko Hillyard| Cloud| 12899|   62|Margene Moores_Ma...|\n",
      "| 28|  Male|  Celeste Lollis|    PF| 21267|   45|Jeannetta Golden_...|\n",
      "| 29|Female|    Elenore Choy|    DB| 32877|   29|Billi Clore_Mitzi...|\n",
      "| 28|  Male|  Sheryll Towler|   DSA| 41487|   41|Claude Panos_Judi...|\n",
      "| 28|  Male|  Margene Moores|   MVC| 52771|   32|Toshiko Hillyard_...|\n",
      "| 28|  Male|     Neda Briski|   OOP| 61973|   69|Alberta Freund_El...|\n",
      "| 28|Female|    Claude Panos| Cloud| 72409|   85|Sheryll Towler_Al...|\n",
      "| 28|  Male|  Celeste Lollis|   MVC| 81492|   64|Nicole Harwood_Cl...|\n",
      "| 29|  Male|  Cordie Harnois|   OOP| 92882|   51|Judie Chipps_Clem...|\n",
      "| 29|Female|       Kena Wild|   DSA|102285|   35|Dustin Feagins_Ma...|\n",
      "| 29|  Male| Ernest Rossbach|    DB|111449|   53|Maybell Duguay_Ab...|\n",
      "| 28|Female|  Latia Vanhoose|    DB|122502|   27|Latia Vanhoose_Mi...|\n",
      "| 29|Female|  Latia Vanhoose|   MVC|132110|   55|Eda Neathery_Nico...|\n",
      "| 29|  Male|     Neda Briski|    PF|141770|   42|Margene Moores_Mi...|\n",
      "| 29|Female|  Latia Vanhoose|    DB|152159|   27|Claude Panos_Sant...|\n",
      "| 29|  Male|  Loris Crossett|   MVC|161771|   36|Mitzi Seldon_Jenn...|\n",
      "| 29|  Male|  Annika Hoffman|   OOP|171660|   22|Taryn Brownlee_Mi...|\n",
      "| 29|  Male|   Santa Kerfien|    PF|182129|   56|Judie Chipps_Tary...|\n",
      "| 28|Female|Mickey Cortright|    DB|192537|   62|Ernest Rossbach_M...|\n",
      "+---+------+----------------+------+------+-----+--------------------+\n",
      "only showing top 20 rows\n",
      "\n"
     ]
    }
   ],
   "source": [
    "df = spark.read.options(header = True, inferSchema = True).csv('StudentData.csv')\n",
    "df.show()"
   ]
  },
  {
   "cell_type": "code",
   "execution_count": 6,
   "id": "54f53062",
   "metadata": {},
   "outputs": [
    {
     "name": "stdout",
     "output_type": "stream",
     "text": [
      "+------+----------+\n",
      "|gender|sum(marks)|\n",
      "+------+----------+\n",
      "|Female|     29636|\n",
      "|  Male|     30461|\n",
      "+------+----------+\n",
      "\n"
     ]
    }
   ],
   "source": [
    "# Group based on the gender first\n",
    "df.groupBy(\"gender\").sum(\"marks\").show()"
   ]
  },
  {
   "cell_type": "code",
   "execution_count": 9,
   "id": "6c0b28b0",
   "metadata": {},
   "outputs": [
    {
     "name": "stdout",
     "output_type": "stream",
     "text": [
      "+------+-----+\n",
      "|gender|count|\n",
      "+------+-----+\n",
      "|Female|  501|\n",
      "|  Male|  499|\n",
      "+------+-----+\n",
      "\n",
      "+------+-----+\n",
      "|course|count|\n",
      "+------+-----+\n",
      "|    PF|  166|\n",
      "|    DB|  157|\n",
      "|   MVC|  157|\n",
      "|   DSA|  176|\n",
      "| Cloud|  192|\n",
      "|   OOP|  152|\n",
      "+------+-----+\n",
      "\n",
      "+------+----------+\n",
      "|course|sum(marks)|\n",
      "+------+----------+\n",
      "|    PF|      9933|\n",
      "|    DB|      9270|\n",
      "|   MVC|      9585|\n",
      "|   DSA|     10950|\n",
      "| Cloud|     11443|\n",
      "|   OOP|      8916|\n",
      "+------+----------+\n",
      "\n"
     ]
    }
   ],
   "source": [
    "df.groupBy(\"gender\").count().show()\n",
    "df.groupBy(\"course\").count().show()\n",
    "df.groupBy(\"course\").sum(\"marks\").show()"
   ]
  },
  {
   "cell_type": "code",
   "execution_count": 11,
   "id": "923182c5",
   "metadata": {},
   "outputs": [
    {
     "name": "stdout",
     "output_type": "stream",
     "text": [
      "+------+----------+\n",
      "|gender|max(marks)|\n",
      "+------+----------+\n",
      "|Female|        99|\n",
      "|  Male|        99|\n",
      "+------+----------+\n",
      "\n",
      "+------+----------+\n",
      "|gender|min(marks)|\n",
      "+------+----------+\n",
      "|Female|        20|\n",
      "|  Male|        20|\n",
      "+------+----------+\n",
      "\n"
     ]
    }
   ],
   "source": [
    "df.groupBy(\"gender\").max(\"marks\").show()\n",
    "df.groupBy(\"gender\").min(\"marks\").show()"
   ]
  },
  {
   "cell_type": "code",
   "execution_count": 13,
   "id": "0c1f3610",
   "metadata": {},
   "outputs": [
    {
     "name": "stdout",
     "output_type": "stream",
     "text": [
      "+---+------------------+\n",
      "|age|        avg(marks)|\n",
      "+---+------------------+\n",
      "| 28|60.487854251012145|\n",
      "| 29|59.715415019762844|\n",
      "+---+------------------+\n",
      "\n"
     ]
    }
   ],
   "source": [
    "df.groupBy(\"age\").avg(\"marks\").show()"
   ]
  },
  {
   "cell_type": "code",
   "execution_count": 14,
   "id": "97b437d6",
   "metadata": {},
   "outputs": [
    {
     "name": "stdout",
     "output_type": "stream",
     "text": [
      "+------+------------------+\n",
      "|gender|        avg(marks)|\n",
      "+------+------------------+\n",
      "|Female|59.153692614770456|\n",
      "|  Male| 61.04408817635271|\n",
      "+------+------------------+\n",
      "\n"
     ]
    }
   ],
   "source": [
    "df.groupBy(\"gender\").mean(\"marks\").show()"
   ]
  },
  {
   "cell_type": "code",
   "execution_count": 15,
   "id": "acc99813",
   "metadata": {},
   "outputs": [],
   "source": [
    "# Grouping from multiple columns"
   ]
  },
  {
   "cell_type": "code",
   "execution_count": 17,
   "id": "43282cbb",
   "metadata": {},
   "outputs": [
    {
     "name": "stdout",
     "output_type": "stream",
     "text": [
      "+------+-----+\n",
      "|course|count|\n",
      "+------+-----+\n",
      "|    PF|  166|\n",
      "|    DB|  157|\n",
      "|   MVC|  157|\n",
      "|   DSA|  176|\n",
      "| Cloud|  192|\n",
      "|   OOP|  152|\n",
      "+------+-----+\n",
      "\n",
      "+------+------+-----+\n",
      "|course|gender|count|\n",
      "+------+------+-----+\n",
      "|   OOP|  Male|   70|\n",
      "|    DB|  Male|   82|\n",
      "| Cloud|Female|  106|\n",
      "|   MVC|  Male|   86|\n",
      "|   DSA|Female|   98|\n",
      "|    PF|  Male|   97|\n",
      "|   MVC|Female|   71|\n",
      "| Cloud|  Male|   86|\n",
      "|    PF|Female|   69|\n",
      "|   DSA|  Male|   78|\n",
      "|    DB|Female|   75|\n",
      "|   OOP|Female|   82|\n",
      "+------+------+-----+\n",
      "\n"
     ]
    }
   ],
   "source": [
    "df.groupBy(\"course\").count().show()\n",
    "df.groupBy(\"course\",\"gender\").count().show()"
   ]
  },
  {
   "cell_type": "code",
   "execution_count": 29,
   "id": "4888eaf7",
   "metadata": {},
   "outputs": [
    {
     "name": "stdout",
     "output_type": "stream",
     "text": [
      "+------+------+----------+\n",
      "|course|gender|max(marks)|\n",
      "+------+------+----------+\n",
      "|    PF|  Male|        99|\n",
      "|    PF|Female|        99|\n",
      "|   OOP|  Male|        99|\n",
      "|   OOP|Female|        99|\n",
      "|   MVC|  Male|        99|\n",
      "|   MVC|Female|        99|\n",
      "|   DSA|  Male|        99|\n",
      "|   DSA|Female|        99|\n",
      "|    DB|  Male|        98|\n",
      "|    DB|Female|        96|\n",
      "| Cloud|  Male|        97|\n",
      "| Cloud|Female|        99|\n",
      "+------+------+----------+\n",
      "\n"
     ]
    }
   ],
   "source": [
    "df.groupBy(\"course\",\"gender\").max(\"marks\").orderBy(df.course.desc(),df.gender.desc()).show()"
   ]
  },
  {
   "cell_type": "code",
   "execution_count": 30,
   "id": "111cd7a3",
   "metadata": {},
   "outputs": [],
   "source": [
    "from pyspark.sql.functions import sum, avg, max, min, mean, count"
   ]
  },
  {
   "cell_type": "code",
   "execution_count": 43,
   "id": "69d2cac7",
   "metadata": {},
   "outputs": [
    {
     "name": "stdout",
     "output_type": "stream",
     "text": [
      "+------+------+-----------------+------------+-------------+-------------+------------------+------------------+\n",
      "|course|gender|total_enrollments|Sum of marks|Minimum Marks|Maximum Marks|         Avg Marks|     Mean of Marks|\n",
      "+------+------+-----------------+------------+-------------+-------------+------------------+------------------+\n",
      "|   OOP|  Male|               70|        4234|           20|           99| 60.48571428571429| 60.48571428571429|\n",
      "|    DB|  Male|               82|        5073|           20|           98| 61.86585365853659| 61.86585365853659|\n",
      "| Cloud|Female|              106|        6316|           20|           99| 59.58490566037736| 59.58490566037736|\n",
      "|   MVC|  Male|               86|        5241|           22|           99| 60.94186046511628| 60.94186046511628|\n",
      "|   DSA|Female|               98|        6124|           20|           99| 62.48979591836735| 62.48979591836735|\n",
      "|    PF|  Male|               97|        5960|           20|           99| 61.44329896907217| 61.44329896907217|\n",
      "|   MVC|Female|               71|        4344|           22|           99|61.183098591549296|61.183098591549296|\n",
      "| Cloud|  Male|               86|        5127|           21|           97|59.616279069767444|59.616279069767444|\n",
      "|    PF|Female|               69|        3973|           20|           99| 57.57971014492754| 57.57971014492754|\n",
      "|   DSA|  Male|               78|        4826|           20|           99| 61.87179487179487| 61.87179487179487|\n",
      "|    DB|Female|               75|        4197|           20|           96|             55.96|             55.96|\n",
      "|   OOP|Female|               82|        4682|           21|           99| 57.09756097560975| 57.09756097560975|\n",
      "+------+------+-----------------+------------+-------------+-------------+------------------+------------------+\n",
      "\n"
     ]
    }
   ],
   "source": [
    "# df.groupBy(\"course\").count().show()\n",
    "df.groupBy(\"course\",\"gender\").agg(count(\"*\").alias(\"total_enrollments\"), sum(\"marks\").alias(\"Sum of marks\"), min(\"marks\").alias(\"Minimum Marks\"), max(\"marks\").alias(\"Maximum Marks\"), avg(\"marks\").alias(\"Avg Marks\"), mean(\"marks\").alias(\"Mean of Marks\")).show()"
   ]
  },
  {
   "cell_type": "code",
   "execution_count": null,
   "id": "5ddbf7da",
   "metadata": {},
   "outputs": [],
   "source": []
  }
 ],
 "metadata": {
  "kernelspec": {
   "display_name": "Python 3",
   "language": "python",
   "name": "python3"
  },
  "language_info": {
   "codemirror_mode": {
    "name": "ipython",
    "version": 3
   },
   "file_extension": ".py",
   "mimetype": "text/x-python",
   "name": "python",
   "nbconvert_exporter": "python",
   "pygments_lexer": "ipython3",
   "version": "3.8.8"
  }
 },
 "nbformat": 4,
 "nbformat_minor": 5
}
