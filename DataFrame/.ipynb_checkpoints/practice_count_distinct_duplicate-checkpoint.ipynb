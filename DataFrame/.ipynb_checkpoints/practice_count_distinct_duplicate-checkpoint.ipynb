{
 "cells": [
  {
   "cell_type": "code",
   "execution_count": null,
   "id": "96f2e98a",
   "metadata": {},
   "outputs": [],
   "source": [
    "# Use StudentData.csv\n",
    "# Read the file in DF\n",
    "# Write a code to display all the unique rows for age, gender, and column column.\n"
   ]
  },
  {
   "cell_type": "code",
   "execution_count": null,
   "id": "514c0f15",
   "metadata": {},
   "outputs": [],
   "source": [
    "# create sparkSession\n",
    "from pyspark.sql import SparkSession\n",
    "spark = SparkSession.builder.appName('Spark_Dataframe').getOrCreate()"
   ]
  },
  {
   "cell_type": "code",
   "execution_count": null,
   "id": "e44d4aeb",
   "metadata": {},
   "outputs": [],
   "source": []
  }
 ],
 "metadata": {
  "kernelspec": {
   "display_name": "Python 3",
   "language": "python",
   "name": "python3"
  },
  "language_info": {
   "codemirror_mode": {
    "name": "ipython",
    "version": 3
   },
   "file_extension": ".py",
   "mimetype": "text/x-python",
   "name": "python",
   "nbconvert_exporter": "python",
   "pygments_lexer": "ipython3",
   "version": "3.8.8"
  }
 },
 "nbformat": 4,
 "nbformat_minor": 5
}
