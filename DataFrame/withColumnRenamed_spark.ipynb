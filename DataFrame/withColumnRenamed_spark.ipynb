{
 "cells": [
  {
   "cell_type": "code",
   "execution_count": 1,
   "id": "aa8b66b4",
   "metadata": {},
   "outputs": [
    {
     "name": "stderr",
     "output_type": "stream",
     "text": [
      "C:\\Users\\HP\\anaconda3\\lib\\site-packages\\numpy\\_distributor_init.py:30: UserWarning: loaded more than 1 DLL from .libs:\n",
      "C:\\Users\\HP\\anaconda3\\lib\\site-packages\\numpy\\.libs\\libopenblas.FB5AE2TYXYH2IJRDKGDGQ3XBKLKTF43H.gfortran-win_amd64.dll\n",
      "C:\\Users\\HP\\anaconda3\\lib\\site-packages\\numpy\\.libs\\libopenblas.WCDJNK7YVMPZQ2ME2ZZHJJRJ3JIKNDB7.gfortran-win_amd64.dll\n",
      "  warnings.warn(\"loaded more than 1 DLL from .libs:\"\n"
     ]
    },
    {
     "data": {
      "text/html": [
       "\n",
       "            <div>\n",
       "                <p><b>SparkSession - in-memory</b></p>\n",
       "                \n",
       "        <div>\n",
       "            <p><b>SparkContext</b></p>\n",
       "\n",
       "            <p><a href=\"http://Ranjeev.mshome.net:4044\">Spark UI</a></p>\n",
       "\n",
       "            <dl>\n",
       "              <dt>Version</dt>\n",
       "                <dd><code>v3.3.2</code></dd>\n",
       "              <dt>Master</dt>\n",
       "                <dd><code>local[*]</code></dd>\n",
       "              <dt>AppName</dt>\n",
       "                <dd><code>spark_withColumn</code></dd>\n",
       "            </dl>\n",
       "        </div>\n",
       "        \n",
       "            </div>\n",
       "        "
      ],
      "text/plain": [
       "<pyspark.sql.session.SparkSession at 0x25628dd70a0>"
      ]
     },
     "execution_count": 1,
     "metadata": {},
     "output_type": "execute_result"
    }
   ],
   "source": [
    "from pyspark.sql import SparkSession\n",
    "from pyspark.sql.functions import col, lit\n",
    "spark = SparkSession.builder.appName(\"spark_withColumn\").getOrCreate()\n",
    "spark"
   ]
  },
  {
   "cell_type": "code",
   "execution_count": 6,
   "id": "372b6784",
   "metadata": {
    "scrolled": true
   },
   "outputs": [
    {
     "name": "stdout",
     "output_type": "stream",
     "text": [
      "+---+------+----------------+------+------+-----+--------------------+\n",
      "|age|gender|            name|course|  roll|marks|               email|\n",
      "+---+------+----------------+------+------+-----+--------------------+\n",
      "| 28|Female| Hubert Oliveras|    DB|  2984|   59|Annika Hoffman_Na...|\n",
      "| 29|Female|Toshiko Hillyard| Cloud| 12899|   62|Margene Moores_Ma...|\n",
      "| 28|  Male|  Celeste Lollis|    PF| 21267|   45|Jeannetta Golden_...|\n",
      "| 29|Female|    Elenore Choy|    DB| 32877|   29|Billi Clore_Mitzi...|\n",
      "| 28|  Male|  Sheryll Towler|   DSA| 41487|   41|Claude Panos_Judi...|\n",
      "| 28|  Male|  Margene Moores|   MVC| 52771|   32|Toshiko Hillyard_...|\n",
      "| 28|  Male|     Neda Briski|   OOP| 61973|   69|Alberta Freund_El...|\n",
      "| 28|Female|    Claude Panos| Cloud| 72409|   85|Sheryll Towler_Al...|\n",
      "| 28|  Male|  Celeste Lollis|   MVC| 81492|   64|Nicole Harwood_Cl...|\n",
      "| 29|  Male|  Cordie Harnois|   OOP| 92882|   51|Judie Chipps_Clem...|\n",
      "| 29|Female|       Kena Wild|   DSA|102285|   35|Dustin Feagins_Ma...|\n",
      "| 29|  Male| Ernest Rossbach|    DB|111449|   53|Maybell Duguay_Ab...|\n",
      "| 28|Female|  Latia Vanhoose|    DB|122502|   27|Latia Vanhoose_Mi...|\n",
      "| 29|Female|  Latia Vanhoose|   MVC|132110|   55|Eda Neathery_Nico...|\n",
      "| 29|  Male|     Neda Briski|    PF|141770|   42|Margene Moores_Mi...|\n",
      "| 29|Female|  Latia Vanhoose|    DB|152159|   27|Claude Panos_Sant...|\n",
      "| 29|  Male|  Loris Crossett|   MVC|161771|   36|Mitzi Seldon_Jenn...|\n",
      "| 29|  Male|  Annika Hoffman|   OOP|171660|   22|Taryn Brownlee_Mi...|\n",
      "| 29|  Male|   Santa Kerfien|    PF|182129|   56|Judie Chipps_Tary...|\n",
      "| 28|Female|Mickey Cortright|    DB|192537|   62|Ernest Rossbach_M...|\n",
      "+---+------+----------------+------+------+-----+--------------------+\n",
      "only showing top 20 rows\n",
      "\n"
     ]
    }
   ],
   "source": [
    "df = spark.read.options(header = True,inferSchema = True).csv('StudentData.csv')\n",
    "df.show()"
   ]
  },
  {
   "cell_type": "code",
   "execution_count": 11,
   "id": "59bfc6a1",
   "metadata": {},
   "outputs": [
    {
     "name": "stdout",
     "output_type": "stream",
     "text": [
      "+---+------+----------------+-------------+-----------+-----+--------------------+\n",
      "|age|   sex|            name|Course_detail|Roll Number|marks|               email|\n",
      "+---+------+----------------+-------------+-----------+-----+--------------------+\n",
      "| 28|Female| Hubert Oliveras|           DB|       2984|   59|Annika Hoffman_Na...|\n",
      "| 29|Female|Toshiko Hillyard|        Cloud|      12899|   62|Margene Moores_Ma...|\n",
      "| 28|  Male|  Celeste Lollis|           PF|      21267|   45|Jeannetta Golden_...|\n",
      "| 29|Female|    Elenore Choy|           DB|      32877|   29|Billi Clore_Mitzi...|\n",
      "| 28|  Male|  Sheryll Towler|          DSA|      41487|   41|Claude Panos_Judi...|\n",
      "| 28|  Male|  Margene Moores|          MVC|      52771|   32|Toshiko Hillyard_...|\n",
      "| 28|  Male|     Neda Briski|          OOP|      61973|   69|Alberta Freund_El...|\n",
      "| 28|Female|    Claude Panos|        Cloud|      72409|   85|Sheryll Towler_Al...|\n",
      "| 28|  Male|  Celeste Lollis|          MVC|      81492|   64|Nicole Harwood_Cl...|\n",
      "| 29|  Male|  Cordie Harnois|          OOP|      92882|   51|Judie Chipps_Clem...|\n",
      "| 29|Female|       Kena Wild|          DSA|     102285|   35|Dustin Feagins_Ma...|\n",
      "| 29|  Male| Ernest Rossbach|           DB|     111449|   53|Maybell Duguay_Ab...|\n",
      "| 28|Female|  Latia Vanhoose|           DB|     122502|   27|Latia Vanhoose_Mi...|\n",
      "| 29|Female|  Latia Vanhoose|          MVC|     132110|   55|Eda Neathery_Nico...|\n",
      "| 29|  Male|     Neda Briski|           PF|     141770|   42|Margene Moores_Mi...|\n",
      "| 29|Female|  Latia Vanhoose|           DB|     152159|   27|Claude Panos_Sant...|\n",
      "| 29|  Male|  Loris Crossett|          MVC|     161771|   36|Mitzi Seldon_Jenn...|\n",
      "| 29|  Male|  Annika Hoffman|          OOP|     171660|   22|Taryn Brownlee_Mi...|\n",
      "| 29|  Male|   Santa Kerfien|           PF|     182129|   56|Judie Chipps_Tary...|\n",
      "| 28|Female|Mickey Cortright|           DB|     192537|   62|Ernest Rossbach_M...|\n",
      "+---+------+----------------+-------------+-----------+-----+--------------------+\n",
      "only showing top 20 rows\n",
      "\n"
     ]
    }
   ],
   "source": [
    "df = df.withColumnRenamed(\"gender\", \"sex\").withColumnRenamed(\"roll\",\"Roll Number\").withColumnRenamed(\"course\",\"Course_detail\")\n",
    "df.show()"
   ]
  },
  {
   "cell_type": "code",
   "execution_count": 17,
   "id": "f2389ac2",
   "metadata": {},
   "outputs": [
    {
     "name": "stdout",
     "output_type": "stream",
     "text": [
      "+----------------+\n",
      "|       Full Name|\n",
      "+----------------+\n",
      "| Hubert Oliveras|\n",
      "|Toshiko Hillyard|\n",
      "|  Celeste Lollis|\n",
      "|    Elenore Choy|\n",
      "|  Sheryll Towler|\n",
      "|  Margene Moores|\n",
      "|     Neda Briski|\n",
      "|    Claude Panos|\n",
      "|  Celeste Lollis|\n",
      "|  Cordie Harnois|\n",
      "|       Kena Wild|\n",
      "| Ernest Rossbach|\n",
      "|  Latia Vanhoose|\n",
      "|  Latia Vanhoose|\n",
      "|     Neda Briski|\n",
      "|  Latia Vanhoose|\n",
      "|  Loris Crossett|\n",
      "|  Annika Hoffman|\n",
      "|   Santa Kerfien|\n",
      "|Mickey Cortright|\n",
      "+----------------+\n",
      "only showing top 20 rows\n",
      "\n"
     ]
    }
   ],
   "source": [
    "df1 = df.select(col(\"name\").alias(\"Full Name\"))\n",
    "df1.show()"
   ]
  },
  {
   "cell_type": "code",
   "execution_count": null,
   "id": "4701e718",
   "metadata": {},
   "outputs": [],
   "source": []
  }
 ],
 "metadata": {
  "kernelspec": {
   "display_name": "Python 3",
   "language": "python",
   "name": "python3"
  },
  "language_info": {
   "codemirror_mode": {
    "name": "ipython",
    "version": 3
   },
   "file_extension": ".py",
   "mimetype": "text/x-python",
   "name": "python",
   "nbconvert_exporter": "python",
   "pygments_lexer": "ipython3",
   "version": "3.8.8"
  }
 },
 "nbformat": 4,
 "nbformat_minor": 5
}
