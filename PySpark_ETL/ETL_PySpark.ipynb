{
  "nbformat": 4,
  "nbformat_minor": 0,
  "metadata": {
    "colab": {
      "provenance": [],
      "gpuType": "T4"
    },
    "kernelspec": {
      "name": "python3",
      "display_name": "Python 3"
    },
    "language_info": {
      "name": "python"
    },
    "accelerator": "GPU"
  },
  "cells": [
    {
      "cell_type": "code",
      "execution_count": 30,
      "metadata": {
        "colab": {
          "base_uri": "https://localhost:8080/"
        },
        "id": "8olJMGIsMHQM",
        "outputId": "c2d3b8f1-f005-4dde-d8dd-87ba80089c5b"
      },
      "outputs": [
        {
          "output_type": "stream",
          "name": "stdout",
          "text": [
            "Selecting previously unselected package libxtst6:amd64.\n",
            "(Reading database ... 122541 files and directories currently installed.)\n",
            "Preparing to unpack .../libxtst6_2%3a1.2.3-1_amd64.deb ...\n",
            "Unpacking libxtst6:amd64 (2:1.2.3-1) ...\n",
            "Selecting previously unselected package openjdk-8-jre-headless:amd64.\n",
            "Preparing to unpack .../openjdk-8-jre-headless_8u372-ga~us1-0ubuntu1~20.04_amd64.deb ...\n",
            "Unpacking openjdk-8-jre-headless:amd64 (8u372-ga~us1-0ubuntu1~20.04) ...\n",
            "Selecting previously unselected package openjdk-8-jdk-headless:amd64.\n",
            "Preparing to unpack .../openjdk-8-jdk-headless_8u372-ga~us1-0ubuntu1~20.04_amd64.deb ...\n",
            "Unpacking openjdk-8-jdk-headless:amd64 (8u372-ga~us1-0ubuntu1~20.04) ...\n",
            "Setting up libxtst6:amd64 (2:1.2.3-1) ...\n",
            "Setting up openjdk-8-jre-headless:amd64 (8u372-ga~us1-0ubuntu1~20.04) ...\n",
            "update-alternatives: using /usr/lib/jvm/java-8-openjdk-amd64/jre/bin/orbd to provide /usr/bin/orbd (orbd) in auto mode\n",
            "update-alternatives: using /usr/lib/jvm/java-8-openjdk-amd64/jre/bin/servertool to provide /usr/bin/servertool (servertool) in auto mode\n",
            "update-alternatives: using /usr/lib/jvm/java-8-openjdk-amd64/jre/bin/tnameserv to provide /usr/bin/tnameserv (tnameserv) in auto mode\n",
            "Setting up openjdk-8-jdk-headless:amd64 (8u372-ga~us1-0ubuntu1~20.04) ...\n",
            "update-alternatives: using /usr/lib/jvm/java-8-openjdk-amd64/bin/idlj to provide /usr/bin/idlj (idlj) in auto mode\n",
            "update-alternatives: using /usr/lib/jvm/java-8-openjdk-amd64/bin/wsimport to provide /usr/bin/wsimport (wsimport) in auto mode\n",
            "update-alternatives: using /usr/lib/jvm/java-8-openjdk-amd64/bin/jsadebugd to provide /usr/bin/jsadebugd (jsadebugd) in auto mode\n",
            "update-alternatives: using /usr/lib/jvm/java-8-openjdk-amd64/bin/native2ascii to provide /usr/bin/native2ascii (native2ascii) in auto mode\n",
            "update-alternatives: using /usr/lib/jvm/java-8-openjdk-amd64/bin/javah to provide /usr/bin/javah (javah) in auto mode\n",
            "update-alternatives: using /usr/lib/jvm/java-8-openjdk-amd64/bin/clhsdb to provide /usr/bin/clhsdb (clhsdb) in auto mode\n",
            "update-alternatives: using /usr/lib/jvm/java-8-openjdk-amd64/bin/jhat to provide /usr/bin/jhat (jhat) in auto mode\n",
            "update-alternatives: using /usr/lib/jvm/java-8-openjdk-amd64/bin/extcheck to provide /usr/bin/extcheck (extcheck) in auto mode\n",
            "update-alternatives: using /usr/lib/jvm/java-8-openjdk-amd64/bin/hsdb to provide /usr/bin/hsdb (hsdb) in auto mode\n",
            "update-alternatives: using /usr/lib/jvm/java-8-openjdk-amd64/bin/schemagen to provide /usr/bin/schemagen (schemagen) in auto mode\n",
            "update-alternatives: using /usr/lib/jvm/java-8-openjdk-amd64/bin/xjc to provide /usr/bin/xjc (xjc) in auto mode\n",
            "update-alternatives: using /usr/lib/jvm/java-8-openjdk-amd64/bin/wsgen to provide /usr/bin/wsgen (wsgen) in auto mode\n",
            "Processing triggers for libc-bin (2.31-0ubuntu9.9) ...\n",
            "Looking in indexes: https://pypi.org/simple, https://us-python.pkg.dev/colab-wheels/public/simple/\n",
            "Requirement already satisfied: pyspark in /usr/local/lib/python3.10/dist-packages (3.4.0)\n",
            "Requirement already satisfied: py4j==0.10.9.7 in /usr/local/lib/python3.10/dist-packages (from pyspark) (0.10.9.7)\n"
          ]
        }
      ],
      "source": [
        "!apt-get install openjdk-8-jdk-headless -qq\n",
        "!pip install pyspark"
      ]
    },
    {
      "cell_type": "code",
      "source": [
        "!wget https://jdbc.postgresql.org/download/postgresql-42.6.0.jar"
      ],
      "metadata": {
        "colab": {
          "base_uri": "https://localhost:8080/"
        },
        "id": "gXX_Zhfl_Bb9",
        "outputId": "67f5ba70-11a6-4087-c82b-be036131da37"
      },
      "execution_count": 31,
      "outputs": [
        {
          "output_type": "stream",
          "name": "stdout",
          "text": [
            "--2023-06-13 13:50:58--  https://jdbc.postgresql.org/download/postgresql-42.6.0.jar\n",
            "Resolving jdbc.postgresql.org (jdbc.postgresql.org)... 72.32.157.228, 2001:4800:3e1:1::228\n",
            "Connecting to jdbc.postgresql.org (jdbc.postgresql.org)|72.32.157.228|:443... connected.\n",
            "HTTP request sent, awaiting response... 200 OK\n",
            "Length: 1081604 (1.0M) [application/java-archive]\n",
            "Saving to: ‘postgresql-42.6.0.jar’\n",
            "\n",
            "\rpostgresql-42.6.0.j   0%[                    ]       0  --.-KB/s               \rpostgresql-42.6.0.j 100%[===================>]   1.03M  --.-KB/s    in 0.08s   \n",
            "\n",
            "2023-06-13 13:50:58 (12.3 MB/s) - ‘postgresql-42.6.0.jar’ saved [1081604/1081604]\n",
            "\n"
          ]
        }
      ]
    },
    {
      "cell_type": "code",
      "source": [
        "!mkdir jars\n",
        "!mv postgresql-42.6.0.jar jars/"
      ],
      "metadata": {
        "id": "pu00BVkv_K-N"
      },
      "execution_count": 18,
      "outputs": []
    },
    {
      "cell_type": "code",
      "source": [
        "from pyspark.sql import SparkSession\n",
        "from pyspark.sql.functions import lit, col, explode\n",
        "import pyspark.sql.functions as f\n"
      ],
      "metadata": {
        "id": "UAZflaL7RMgB"
      },
      "execution_count": 32,
      "outputs": []
    },
    {
      "cell_type": "code",
      "source": [
        "# Extract\n",
        "# spark = SparkSession.builder.appName(\"ETL Pipeline\").getOrCreate()\n",
        "spark = SparkSession.builder \\\n",
        "    .appName(\"Write to PostgreSQL\") \\\n",
        "    .config(\"spark.executor.extraClassPath\", \"/content/jars/postgresql-<version>.jar\") \\\n",
        "    .config(\"spark.driver.extraClassPath\", \"/content/jars/postgresql-<version>.jar\") \\\n",
        "    .getOrCreate()\n"
      ],
      "metadata": {
        "id": "_vCL7faYMVgV"
      },
      "execution_count": 33,
      "outputs": []
    },
    {
      "cell_type": "code",
      "source": [
        "df = spark.read.text('WordData.txt')\n",
        "df.show(truncate =False)"
      ],
      "metadata": {
        "colab": {
          "base_uri": "https://localhost:8080/"
        },
        "id": "sTZYaGscMrFl",
        "outputId": "360aa50a-fe71-4d24-92ca-410512e4c4a9"
      },
      "execution_count": 34,
      "outputs": [
        {
          "output_type": "stream",
          "name": "stdout",
          "text": [
            "+-----------------------------------------------------------------------------------------+\n",
            "|value                                                                                    |\n",
            "+-----------------------------------------------------------------------------------------+\n",
            "|This is a Japanese doll                                                                  |\n",
            "|The team members were hard to tell apart since they all wore their hair in a ponytail    |\n",
            "|As the years pass by we all know owners look more and more like their dogs               |\n",
            "|If you don't like toenails you probably shouldn't look at your feet                      |\n",
            "|He was disappointed when he found the beach to be so sandy and the sun so sunny          |\n",
            "|When he encountered maize for the first time he thought it incredibly corny              |\n",
            "|Situps are a terrible way to end your day                                                |\n",
            "|Toddlers feeding raccoons surprised even the seasoned park ranger                        |\n",
            "|Edith could decide if she should paint her teeth or brush her nails                      |\n",
            "|Her daily goal was to improve on yesterday                                               |\n",
            "|Tomorrow will bring something new so leave today as a memory                             |\n",
            "|His son quipped that power bars were nothing more than adult candy bars                  |\n",
            "|He wondered why at 18 he was old enough to go to war but not old enough to buy cigarettes|\n",
            "|If my calculator had a history it would be more embarrassing than my browser history     |\n",
            "|The hummingbird's wings blurred while it eagerly sipped the sugar water from the feeder  |\n",
            "|He went on a whiskey diet and immediately lost three days                                |\n",
            "|This is the last random sentence I will be writing and I am going to stop mid-sent       |\n",
            "|I come from a tribe of head-hunters so I will never need a shrink                        |\n",
            "|The delicious aroma from the kitchen was ruined by cigarette smoke                       |\n",
            "|Weather is not trivial - it's especially important when you're standing in it            |\n",
            "+-----------------------------------------------------------------------------------------+\n",
            "only showing top 20 rows\n",
            "\n"
          ]
        }
      ]
    },
    {
      "cell_type": "code",
      "source": [
        "df2 = df.withColumn(\"splitedData\", f.split(\"value\",\" \"))\n",
        "df3 = df2.withColumn('splitedData', explode(\"splitedData\"))\n",
        "wordsDF = df3.groupBy('splitedData').count()\n",
        "wordsDF.show()"
      ],
      "metadata": {
        "colab": {
          "base_uri": "https://localhost:8080/"
        },
        "id": "BT3L5WGUMyKp",
        "outputId": "17eceb60-256c-4531-fc1f-97d78c51e678"
      },
      "execution_count": 35,
      "outputs": [
        {
          "output_type": "stream",
          "name": "stdout",
          "text": [
            "+-----------+-----+\n",
            "|splitedData|count|\n",
            "+-----------+-----+\n",
            "|   Tomorrow|    4|\n",
            "|         If|    8|\n",
            "|      leave|    4|\n",
            "|      corny|    4|\n",
            "|        day|    4|\n",
            "|preoccupied|    4|\n",
            "|       even|    8|\n",
            "|      crazy|    4|\n",
            "|    bananas|    4|\n",
            "|     priest|    4|\n",
            "|        did|    4|\n",
            "|    whether|    4|\n",
            "|     Having|    4|\n",
            "|        I'm|    4|\n",
            "|      crime|    4|\n",
            "|  surprised|    4|\n",
            "|      James|    4|\n",
            "|      could|    8|\n",
            "|        buy|    4|\n",
            "|        him|    8|\n",
            "+-----------+-----+\n",
            "only showing top 20 rows\n",
            "\n"
          ]
        }
      ]
    },
    {
      "cell_type": "code",
      "source": [
        "# Load\n",
        "driver = \"org.postgresql.Driver\"\n",
        "url = \"jdbc:postgresql://db-postgres.cnc1f54atosg.us-east-2.rds.amazonaws.com/\"\n",
        "table=\"pyspark_schema.wordCount\"\n",
        "user = \"postgres\"\n",
        "password = \"password\""
      ],
      "metadata": {
        "id": "fAoYlqeEMyHD"
      },
      "execution_count": 36,
      "outputs": []
    },
    {
      "cell_type": "code",
      "source": [
        "jdbc_url = \"jdbc:postgresql://db-postgres.cnc1f54atosg.us-east-2.rds.amazonaws.com:5432/postgres\"\n",
        "connection_properties = {\n",
        "    \"user\": \"postgres\",\n",
        "    \"password\": \"password\",\n",
        "    \"driver\": \"org.postgresql.Driver\"\n",
        "}"
      ],
      "metadata": {
        "id": "PvYMKPjn94VZ"
      },
      "execution_count": 37,
      "outputs": []
    },
    {
      "cell_type": "code",
      "source": [
        "# wordsDF.write \\\n",
        "#     .format(\"jdbc\") \\\n",
        "#     .option(\"url\", jdbc_url) \\\n",
        "#     .option(\"dbtable\", \"dummy_table\") \\\n",
        "#     .mode(\"overwrite\") \\\n",
        "#     .options(**connection_properties) \\\n",
        "#     .save()"
      ],
      "metadata": {
        "id": "E-dZDqat-SRy"
      },
      "execution_count": 39,
      "outputs": []
    },
    {
      "cell_type": "code",
      "source": [],
      "metadata": {
        "id": "62Pb6xEoMyCH"
      },
      "execution_count": null,
      "outputs": []
    },
    {
      "cell_type": "code",
      "source": [],
      "metadata": {
        "id": "3f73-AZCMx_r"
      },
      "execution_count": null,
      "outputs": []
    }
  ]
}